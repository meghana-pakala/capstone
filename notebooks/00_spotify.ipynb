{
 "cells": [
  {
   "cell_type": "markdown",
   "metadata": {},
   "source": [
    "# Spotify API"
   ]
  },
  {
   "cell_type": "code",
   "execution_count": null,
   "metadata": {},
   "outputs": [],
   "source": [
    "#pip install spotipy --upgrade\n",
    "\n",
    "import spotipy\n",
    "from spotipy.oauth2 import SpotifyOAuth \n",
    "from spotipy.oauth2 import SpotifyClientCredentials\n",
    "\n",
    "import pandas as pd"
   ]
  },
  {
   "cell_type": "code",
   "execution_count": null,
   "metadata": {},
   "outputs": [],
   "source": [
    "# manually set environment variables\n",
    "import os\n",
    "\n",
    "os.environ['SPOTIPY_CLIENT_ID'] = '9fc4a2bf145b43fca0f305f7c52dda41'\n",
    "os.environ['SPOTIPY_CLIENT_SECRET'] = 'c01da866a44d400aa4cd615a9bc7a752'\n",
    "os.environ['SPOTIPY_REDIRECT_URI'] = 'http://localhost:8888/callback'\n",
    "\n",
    "client_id = os.environ.get('SPOTIPY_CLIENT_ID')\n",
    "client_secret = os.environ.get('SPOTIPY_CLIENT_SECRET')\n",
    "redirect_uri = os.environ.get('SPOTIPY_REDIRECT_URI')"
   ]
  },
  {
   "cell_type": "code",
   "execution_count": null,
   "metadata": {},
   "outputs": [],
   "source": [
    "# set client credentials\n",
    "#sp = spotipy.Spotify(auth_manager=SpotifyClientCredentials())\n",
    "\n",
    "# set scope and authorization\n",
    "scope = 'user-top-read'\n",
    "sp = spotipy.Spotify(auth_manager=SpotifyOAuth(scope=scope))"
   ]
  },
  {
   "cell_type": "markdown",
   "metadata": {},
   "source": [
    "### define functions"
   ]
  },
  {
   "cell_type": "code",
   "execution_count": null,
   "metadata": {},
   "outputs": [],
   "source": [
    "# function to return a dataframe of track metadata for a given playlist\n",
    "\n",
    "def get_tracks(playlist_id):\n",
    "        \n",
    "        # get playlist name and info\n",
    "        playlist_name = sp.playlist(playlist_id)['name']\n",
    "        playlist_info = sp.playlist(playlist_id)['tracks']['items']\n",
    "        \n",
    "        # get info for each track in playlist\n",
    "        track_info = []\n",
    "        for item in playlist_info:\n",
    "             artist_info = item['track']['artists']\n",
    "             artist_names = [artist['name'] for artist in artist_info]\n",
    "             artist_ids = [artist['id'] for artist in artist_info]\n",
    "             \n",
    "             track_info.append({\n",
    "                    'track': item['track']['name'],\n",
    "                    'track_id': item['track']['id'],\n",
    "                    'artist': artist_names,\n",
    "                    'artist_id': artist_ids,\n",
    "                    'album': item['track']['album']['name'],\n",
    "                    'album_id': item['track']['album']['id'],\n",
    "                    'release_date': pd.to_datetime(item['track']['album']['release_date']),\n",
    "                    'release_year': pd.to_datetime(item['track']['album']['release_date']).year,\n",
    "                    'length_ms': item['track']['duration_ms'],\n",
    "                    'explicit': item['track']['explicit'],\n",
    "                    'popularity': item['track']['popularity']\n",
    "             })\n",
    "        tracks_df = pd.DataFrame(track_info)\n",
    "\n",
    "        # insert column for playlist name\n",
    "        tracks_df.insert(0, 'playlist', playlist_name)\n",
    "\n",
    "        return tracks_df"
   ]
  },
  {
   "cell_type": "code",
   "execution_count": null,
   "metadata": {},
   "outputs": [],
   "source": [
    "# function to return a dataframe of audio features for a given track\n",
    "\n",
    "def get_features(track_id):\n",
    "    \n",
    "    # get audio features\n",
    "    features = sp.audio_features(track_id)\n",
    "    \n",
    "    # select features to keep\n",
    "    select_cols = ['id', 'danceability', 'energy', 'key', 'loudness', 'mode','speechiness',\n",
    "                   'acousticness', 'instrumentalness', 'liveness', 'valence', 'tempo']\n",
    "    \n",
    "    # create dataframe with select columns\n",
    "    features_df = pd.DataFrame(features, columns=select_cols)\n",
    "    \n",
    "    return features_df"
   ]
  },
  {
   "cell_type": "code",
   "execution_count": null,
   "metadata": {},
   "outputs": [],
   "source": [
    "# function to return combined dataframe\n",
    "\n",
    "def master_playlist(playlist_urls):\n",
    "    \n",
    "    # check that input is a list, convert if not\n",
    "    if not isinstance(playlist_urls, list):\n",
    "        playlist_urls = [playlist_urls]\n",
    "    \n",
    "    # extract playlist IDs from URLs\n",
    "    playlist_ids = []\n",
    "    for playlist_url in playlist_urls:\n",
    "        playlist_id = playlist_url.split('/')[-1].split('?')[0]\n",
    "        playlist_ids.append(playlist_id)\n",
    "        \n",
    "    # create empty list to store playlist dataframes\n",
    "    master = []\n",
    "\n",
    "    for playlist_id in playlist_ids:\n",
    "        # create dataframe of track metadata\n",
    "        tracks_df = get_tracks(playlist_id)\n",
    "        \n",
    "        # create dataframe of track audio features\n",
    "        features_df = pd.concat([get_features(track_id) for track_id in tracks_df['track_id']], ignore_index=True)\n",
    "\n",
    "        # merge dataframes\n",
    "        tracks_df = pd.merge(tracks_df, features_df, left_on='track_id', right_on='id')\n",
    "        tracks_df.drop('id', axis=1, inplace=True)\n",
    "\n",
    "        # add dataframe to list\n",
    "        master.append(tracks_df)\n",
    "    \n",
    "    # concatenate all dataframes\n",
    "    master_df = pd.concat(master, ignore_index=True)\n",
    "    \n",
    "    return master_df"
   ]
  },
  {
   "cell_type": "markdown",
   "metadata": {},
   "source": [
    "### test functions"
   ]
  },
  {
   "cell_type": "code",
   "execution_count": null,
   "metadata": {},
   "outputs": [],
   "source": [
    "# list of links to my annual top songs playlist 2016-2023\n",
    "\n",
    "annual_playlists = ['https://open.spotify.com/playlist/37i9dQZF1CyWExfjiBGoVh?si=e227bbd1de8b42f0',\n",
    "                    'https://open.spotify.com/playlist/37i9dQZF1E9WKHP4NOmDGL?si=e3ff3539c8ae47a1',\n",
    "                    'https://open.spotify.com/playlist/37i9dQZF1EjgKOpkPK3V4h?si=71409bb3b9cc40a2',\n",
    "                    'https://open.spotify.com/playlist/37i9dQZF1Et8YfkURNRFQQ?si=e1b3f6b940a3403f',\n",
    "                    'https://open.spotify.com/playlist/37i9dQZF1EMgToN6NNFzB2?si=01b2a28d5d54452d',\n",
    "                    'https://open.spotify.com/playlist/37i9dQZF1EUMDoJuT8yJsl?si=86f7eb098f8a4a51',\n",
    "                    'https://open.spotify.com/playlist/37i9dQZF1F0sijgNaJdgit?si=2ee6884b1718473c',\n",
    "                    'https://open.spotify.com/playlist/37i9dQZF1Fa1IIVtEpGUcU?si=baa7cf66e4f54189']"
   ]
  },
  {
   "cell_type": "code",
   "execution_count": null,
   "metadata": {},
   "outputs": [],
   "source": [
    "test_playlists = ['https://open.spotify.com/playlist/37i9dQZF1Fa1IIVtEpGUcU?si=baa7cf66e4f54189', 'https://open.spotify.com/playlist/37i9dQZF1E9WKHP4NOmDGL?si=e3ff3539c8ae47a1']\n",
    "test_track = '0NapkeC45rszeuSgbvcjx4'\n",
    "test_album = '5rHd8n9uWIpq9w0PP5ZcI3'"
   ]
  },
  {
   "cell_type": "code",
   "execution_count": null,
   "metadata": {},
   "outputs": [],
   "source": [
    "master_df = master_playlist(test_playlists)\n",
    "master_df.head()"
   ]
  },
  {
   "cell_type": "code",
   "execution_count": null,
   "metadata": {},
   "outputs": [],
   "source": [
    "# create list of all spotify genres\n",
    "\n",
    "sp_genres = sp.recommendation_genre_seeds()\n",
    "sp_genres = sp_genres['genres']"
   ]
  },
  {
   "cell_type": "code",
   "execution_count": null,
   "metadata": {},
   "outputs": [],
   "source": [
    "# keep duplicated rows - indicator of user listening to same song years apart\n",
    "duplicated_rows = tracklist_df[tracklist_df.duplicated(subset='id', keep=False)]\n",
    "duplicated_rows"
   ]
  }
 ],
 "metadata": {
  "kernelspec": {
   "display_name": "Python 3",
   "language": "python",
   "name": "python3"
  },
  "language_info": {
   "codemirror_mode": {
    "name": "ipython",
    "version": 3
   },
   "file_extension": ".py",
   "mimetype": "text/x-python",
   "name": "python",
   "nbconvert_exporter": "python",
   "pygments_lexer": "ipython3",
   "version": "3.8.5"
  }
 },
 "nbformat": 4,
 "nbformat_minor": 2
}

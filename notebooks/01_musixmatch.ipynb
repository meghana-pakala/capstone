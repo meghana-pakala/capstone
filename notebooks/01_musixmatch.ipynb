{
 "cells": [
  {
   "cell_type": "markdown",
   "metadata": {},
   "source": [
    "# musiXmatch"
   ]
  },
  {
   "cell_type": "markdown",
   "metadata": {},
   "source": [
    "mxm_dataset.db is a SQLite database with the musiXmatch dataset,the official collection of lyrics for the Million Song Dataset (see: http://labrosa.ee.columbia.edu/millionsong/musixmatch)\n",
    "\n",
    "- database contains two tables, 'words' and 'lyrics'\n",
    "- table 'words' has one column: 'word'. \n",
    "   - words are entered according to popularity, check ROWID for their position\n",
    "   - ROWID is an implicit column in SQLite, it starts at 1\n",
    "- table 'lyrics' contains 5 columns:\n",
    "   - 'track_id' - track id from the MSD\n",
    "   - 'mxm_tid' - track ID from musiXmatch\n",
    "   - 'word' - a word that is also in the 'words' table\n",
    "   - 'count' - word count for the word\n",
    "   - 'is_test' - 0 if this example is from the train set, 1 if test"
   ]
  },
  {
   "cell_type": "markdown",
   "metadata": {},
   "source": [
    "## SQL"
   ]
  },
  {
   "cell_type": "code",
   "execution_count": null,
   "metadata": {},
   "outputs": [],
   "source": [
    "import sqlite3\n",
    "conn = sqlite3.connect('../data/mxm_dataset.db')\n",
    "\n",
    "import pandas as pd"
   ]
  },
  {
   "cell_type": "code",
   "execution_count": null,
   "metadata": {},
   "outputs": [],
   "source": [
    "query = \"\"\"\n",
    "\n",
    "SELECT name\n",
    "FROM sqlite_master\n",
    "WHERE type = 'table'\n",
    "\n",
    ";\"\"\"\n",
    "pd.read_sql(query, conn)"
   ]
  },
  {
   "cell_type": "code",
   "execution_count": null,
   "metadata": {},
   "outputs": [],
   "source": [
    "query = \"\"\"\n",
    "\n",
    "SELECT COUNT(DISTINCT track_id) FROM lyrics\n",
    "\n",
    ";\"\"\"\n",
    "pd.read_sql(query, conn)\n"
   ]
  },
  {
   "cell_type": "markdown",
   "metadata": {},
   "source": [
    "## API"
   ]
  },
  {
   "cell_type": "code",
   "execution_count": null,
   "metadata": {},
   "outputs": [],
   "source": [
    "#!pip install musixmatch"
   ]
  },
  {
   "cell_type": "code",
   "execution_count": null,
   "metadata": {},
   "outputs": [],
   "source": [
    "from musixmatch import Musixmatch\n",
    "api_key = '5dc71a02beefc7b26b686a1aed608b6e' # use personal api key\n",
    "mxm = Musixmatch(api_key)\n",
    "\n",
    "import pandas as pd"
   ]
  },
  {
   "cell_type": "code",
   "execution_count": null,
   "metadata": {},
   "outputs": [],
   "source": [
    "track_title = 'The Sound of Letting Go'\n",
    "track_artist = 'All Time Low'"
   ]
  },
  {
   "cell_type": "code",
   "execution_count": null,
   "metadata": {},
   "outputs": [],
   "source": [
    "mxm.track_search(q_track=track_title, q_artist=track_artist)"
   ]
  }
 ],
 "metadata": {
  "kernelspec": {
   "display_name": "Python 3",
   "language": "python",
   "name": "python3"
  },
  "language_info": {
   "codemirror_mode": {
    "name": "ipython",
    "version": 3
   },
   "file_extension": ".py",
   "mimetype": "text/x-python",
   "name": "python",
   "nbconvert_exporter": "python",
   "pygments_lexer": "ipython3",
   "version": "3.8.5"
  }
 },
 "nbformat": 4,
 "nbformat_minor": 2
}

{
 "cells": [
  {
   "cell_type": "markdown",
   "metadata": {},
   "source": [
    "# genius lyrics"
   ]
  },
  {
   "cell_type": "code",
   "execution_count": null,
   "metadata": {},
   "outputs": [],
   "source": [
    "import pandas as pd\n",
    "from tqdm import tqdm\n",
    "\n",
    "#!pip install lyricsgenius\n",
    "import lyricsgenius\n",
    "\n",
    "# set personal token\n",
    "token ='W3Ke5EdZs74Of_j08ASwcfWh-45-yRQ2DDKC_EIGdZctBiwbSG57TbIIztp_gUwf' # remove this !!\n",
    "genius = lyricsgenius.Genius(token, timeout=30, retries=2, verbose=False)"
   ]
  },
  {
   "cell_type": "code",
   "execution_count": 271,
   "metadata": {},
   "outputs": [],
   "source": [
    "# function to scrape lyrics given dataframe with track and artist columns\n",
    "def get_genius_lyrics(df):\n",
    "    lyrics_list = []\n",
    "    for index, row in tqdm(df.iterrows(), total=len(df), desc='Genius Lyrics Search'):\n",
    "        track = row['track']\n",
    "        artist = row['artist']\n",
    "        try:\n",
    "            track_id = genius.search_song(track, artist=artist).id\n",
    "            lyrics = genius.lyrics(track_id, remove_section_headers=False)\n",
    "            lyrics_list.append(lyrics)\n",
    "        except Exception as e:\n",
    "            print(f\"Error processing track {track}: {e}\")\n",
    "            lyrics_list.append(None)\n",
    "    df['lyrics'] = lyrics_list\n",
    "    return df"
   ]
  },
  {
   "cell_type": "code",
   "execution_count": null,
   "metadata": {},
   "outputs": [],
   "source": [
    "# pop\n",
    "pop_1 = pd.read_csv('../data/sound_of/pop.csv') # 428 songs\n",
    "pop_2 = pd.read_csv('../data/sound_of/dance_pop.csv') # 341 songs\n",
    "\n",
    "pop_df = (pd.concat([pop_1, pop_2])\n",
    "          .drop_duplicates(subset='id')\n",
    "          .rename(columns={'playlist':'genre'})\n",
    "          .assign(genre='pop'))\n",
    "\n",
    "get_genius_lyrics(pop_df)\n",
    "\n",
    "pop_df.to_csv('../data/pop_lyrics.csv')"
   ]
  },
  {
   "cell_type": "code",
   "execution_count": null,
   "metadata": {},
   "outputs": [],
   "source": [
    "# rock\n",
    "rock_1 = pd.read_csv('../data/sound_of/rock.csv') # 509 songs\n",
    "rock_2 = pd.read_csv('../data/sound_of/modern_rock.csv') # 321 songs\n",
    "\n",
    "rock_df = (pd.concat([rock_1, rock_2])\n",
    "          .drop_duplicates(subset='id')\n",
    "          .rename(columns={'playlist':'genre'})\n",
    "          .assign(genre= 'rock'))\n",
    "\n",
    "get_genius_lyrics(rock_df)\n",
    "\n",
    "rock_df.to_csv('../data/rock_lyrics.csv')"
   ]
  },
  {
   "cell_type": "code",
   "execution_count": null,
   "metadata": {},
   "outputs": [],
   "source": [
    "# hip hop\n",
    "hiphop_1 = pd.read_csv('../data/sound_of/hip_hop.csv') # 344 songs\n",
    "hiphop_2 = pd.read_csv('../data/sound_of/rap.csv') # 344 songs\n",
    "\n",
    "hiphop_df = (pd.concat([hiphop_1, hiphop_2])\n",
    "             .drop_duplicates(subset='id')\n",
    "             .rename(columns={'playlist':'genre'})\n",
    "             .assign(genre= 'hip hop'))\n",
    "\n",
    "get_genius_lyrics(hiphop_df)\n",
    "\n",
    "hiphop_df.to_csv('../data/hiphop_lyrics.csv')"
   ]
  },
  {
   "cell_type": "code",
   "execution_count": null,
   "metadata": {},
   "outputs": [],
   "source": [
    "# country\n",
    "country_1 = pd.read_csv('../data/sound_of/country.csv') # 413 songs\n",
    "country_2 = pd.read_csv('../data/sound_of/contemporary_country.csv') # 380 songs\n",
    "\n",
    "country_df = (pd.concat([country_1, country_2])\n",
    "              .drop_duplicates(subset='id')\n",
    "              .rename(columns={'playlist':'genre'})\n",
    "              .assign(genre= 'country'))\n",
    "\n",
    "get_genius_lyrics(country_df)\n",
    "\n",
    "country_df.to_csv('../data/country_lyrics.csv')"
   ]
  },
  {
   "cell_type": "code",
   "execution_count": 2,
   "metadata": {},
   "outputs": [],
   "source": [
    "# import\n",
    "import pandas as pd\n",
    "\n",
    "pop_df = pd.read_csv('../data/raw/pop_lyrics.csv', index_col=0)\n",
    "rock_df = pd.read_csv('../data/raw/rock_lyrics.csv', index_col=0)\n",
    "hiphop_df = pd.read_csv('../data/raw/hiphop_lyrics.csv', index_col=0)\n",
    "country_df = pd.read_csv('../data/raw/country_lyrics.csv', index_col=0)"
   ]
  },
  {
   "cell_type": "code",
   "execution_count": 3,
   "metadata": {},
   "outputs": [],
   "source": [
    "# merge genre dataframes and drop nulls\n",
    "df = (pd.concat([pop_df, rock_df, hiphop_df, country_df], \n",
    "                ignore_index=True)\n",
    "      .dropna(subset=['lyrics']))"
   ]
  },
  {
   "cell_type": "code",
   "execution_count": 4,
   "metadata": {},
   "outputs": [],
   "source": [
    "df.to_csv('../data/lyrics_raw.csv')"
   ]
  },
  {
   "cell_type": "code",
   "execution_count": null,
   "metadata": {},
   "outputs": [],
   "source": []
  },
  {
   "cell_type": "code",
   "execution_count": null,
   "metadata": {},
   "outputs": [],
   "source": []
  }
 ],
 "metadata": {
  "kernelspec": {
   "display_name": "Python 3",
   "language": "python",
   "name": "python3"
  },
  "language_info": {
   "codemirror_mode": {
    "name": "ipython",
    "version": 3
   },
   "file_extension": ".py",
   "mimetype": "text/x-python",
   "name": "python",
   "nbconvert_exporter": "python",
   "pygments_lexer": "ipython3",
   "version": "3.8.5"
  }
 },
 "nbformat": 4,
 "nbformat_minor": 2
}

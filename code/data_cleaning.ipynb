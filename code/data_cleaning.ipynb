{
 "cells": [
  {
   "cell_type": "code",
   "execution_count": null,
   "metadata": {},
   "outputs": [],
   "source": [
    "import pandas as pd\n",
    "import re\n",
    "df = pd.read_csv('../data/lyrics_raw.csv', index_col=0)"
   ]
  },
  {
   "cell_type": "code",
   "execution_count": null,
   "metadata": {},
   "outputs": [],
   "source": [
    "# function to clean text and extract section headers given dataframe with 'lyrics' column\n",
    "def clean_lyrics(df):\n",
    "    lyrics_text = []\n",
    "    song_sections = []\n",
    "    for lyrics in df['lyrics']:\n",
    "        # extract section headers in brackets and create list of unique values\n",
    "        sections = re.findall(r'\\[.*?\\]', lyrics)\n",
    "        sections = [re.sub(r'[^a-zA-Z\\s]', '', section) for section in sections]\n",
    "        sections = list(set(word for section in sections for word in section.split()))\n",
    "        song_sections.append(sections)\n",
    "                # remove first line header and 'embed' text\n",
    "        lyrics = re.sub(r'^.*?Lyrics', '', lyrics)\n",
    "        lyrics = re.sub(r'\\d*Embed\\b', '', lyrics)\n",
    "        # remove any line containing brackets (all headers + surrounding text)\n",
    "        lyrics = re.sub(r'.*\\[.*\\].*\\n?', '', lyrics)\n",
    "        lyrics_text.append(lyrics)\n",
    "    df['lyrics_text'] = lyrics_text\n",
    "    df['song_sections'] = song_sections\n",
    "    return df"
   ]
  },
  {
   "cell_type": "code",
   "execution_count": null,
   "metadata": {},
   "outputs": [],
   "source": [
    "clean_lyrics(df)"
   ]
  },
  {
   "cell_type": "code",
   "execution_count": null,
   "metadata": {},
   "outputs": [],
   "source": [
    "# example bad lyrics data\n",
    "print(df['lyrics_text'][2])\n",
    "print(df['lyrics_text'][4])"
   ]
  },
  {
   "cell_type": "code",
   "execution_count": null,
   "metadata": {},
   "outputs": [],
   "source": [
    "# find most common song sections\n",
    "section_counts = df['song_sections'].explode().value_counts()\n",
    "section_counts.head(20)"
   ]
  },
  {
   "cell_type": "code",
   "execution_count": null,
   "metadata": {},
   "outputs": [],
   "source": [
    "# create list of most common section titles\n",
    "song_sections = ['Verse', 'Chorus', 'Bridge', 'Outro', 'Intro', 'PreChorus', 'PostChorus', 'Instrumental', 'Break', 'Solo', 'Refrain', 'Interlude', 'Hook']\n",
    "\n",
    "# inspect rows to be dropped\n",
    "rows_to_drop = df[~df['song_sections'].apply(lambda x: any(section in x for section in song_sections) if x else True)].copy()\n",
    "rows_to_drop['lyrics_text'].head(20)"
   ]
  },
  {
   "cell_type": "code",
   "execution_count": null,
   "metadata": {},
   "outputs": [],
   "source": [
    "# drop rows without common section titles\n",
    "df = df[df['song_sections'].apply(lambda x: any(section in x for section in song_sections) if x else False)].copy()\n",
    "\n",
    "# inspect remaining rows\n",
    "df['lyrics_text'].head(20)"
   ]
  },
  {
   "cell_type": "code",
   "execution_count": null,
   "metadata": {},
   "outputs": [],
   "source": [
    "df.to_csv('../data/lyrics.csv', index=False)"
   ]
  }
 ],
 "metadata": {
  "kernelspec": {
   "display_name": "Python 3",
   "language": "python",
   "name": "python3"
  },
  "language_info": {
   "codemirror_mode": {
    "name": "ipython",
    "version": 3
   },
   "file_extension": ".py",
   "mimetype": "text/x-python",
   "name": "python",
   "nbconvert_exporter": "python",
   "pygments_lexer": "ipython3",
   "version": "3.8.5"
  }
 },
 "nbformat": 4,
 "nbformat_minor": 2
}

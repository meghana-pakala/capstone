{
 "cells": [
  {
   "cell_type": "markdown",
   "metadata": {},
   "source": [
    "# spotify api"
   ]
  },
  {
   "cell_type": "code",
   "execution_count": null,
   "metadata": {},
   "outputs": [],
   "source": [
    "import pandas as pd\n",
    "\n",
    "#pip install spotipy --upgrade\n",
    "import spotipy\n",
    "#from spotipy.oauth2 import SpotifyOAuth \n",
    "from spotipy.oauth2 import SpotifyClientCredentials\n"
   ]
  },
  {
   "cell_type": "code",
   "execution_count": null,
   "metadata": {},
   "outputs": [],
   "source": [
    "# set environment variables\n",
    "import os\n",
    "\n",
    "os.environ['SPOTIPY_CLIENT_ID'] = '9fc4a2bf145b43fca0f305f7c52dda41'\n",
    "os.environ['SPOTIPY_CLIENT_SECRET'] = '9fc435a8811e4ff3a82975cd4fc33e3a'\n",
    "#os.environ['SPOTIPY_REDIRECT_URI'] = 'http://localhost:8888/callback'\n",
    "\n",
    "client_id = os.environ.get('SPOTIPY_CLIENT_ID')\n",
    "client_secret = os.environ.get('SPOTIPY_CLIENT_SECRET')\n",
    "#redirect_uri = os.environ.get('SPOTIPY_REDIRECT_URI')\n",
    "\n",
    "# set client credentials\n",
    "sp = spotipy.Spotify(auth_manager=SpotifyClientCredentials())\n",
    "\n",
    "# set scope and authorization\n",
    "#scope = 'user-top-read'\n",
    "#sp = spotipy.Spotify(auth_manager=SpotifyOAuth(scope=scope))"
   ]
  },
  {
   "cell_type": "markdown",
   "metadata": {},
   "source": [
    "## get spotify id for billboard lists"
   ]
  },
  {
   "cell_type": "code",
   "execution_count": null,
   "metadata": {},
   "outputs": [],
   "source": [
    "# create dataframe of track and artist info\n",
    "df = pd.read_csv('../data/billboard_charts.csv')\n",
    "# separate artists into list\n",
    "df['artist_list'] = df['artist'].str.replace(', | Featuring | With | X | x ', ' & ').str.split(' & ')"
   ]
  },
  {
   "cell_type": "code",
   "execution_count": null,
   "metadata": {},
   "outputs": [],
   "source": [
    "# function to search track/artist and return spotify id\n",
    "\n",
    "def get_track_spid(track, artist):\n",
    "    try:\n",
    "        search_result = sp.search(f'{track} {artist}', type='track', limit=1)\n",
    "\n",
    "        if search_result['tracks']['items']:\n",
    "            spid = search_result['tracks']['items'][0]['id']\n",
    "            return spid\n",
    "        else:\n",
    "            print(f\"No tracks found.\")\n",
    "            return None\n",
    "\n",
    "    except Exception as e:\n",
    "        print(f\"Error: {e}\")\n",
    "        return None\n"
   ]
  },
  {
   "cell_type": "code",
   "execution_count": null,
   "metadata": {},
   "outputs": [],
   "source": [
    "df['spid'] = df.apply(lambda row: get_track_spid(row['track'], row['artists']), axis=1)\n",
    "df.head()"
   ]
  },
  {
   "cell_type": "markdown",
   "metadata": {},
   "source": [
    "## get metadata from spid"
   ]
  },
  {
   "cell_type": "code",
   "execution_count": null,
   "metadata": {},
   "outputs": [],
   "source": [
    "# function to get track metadata given a list of spotify ids\n",
    "\n",
    "def get_metadata(track_spids):\n",
    "    metadata_list = []\n",
    "    for track_spid in track_spids:\n",
    "        # get metadata\n",
    "        info = sp.track(track_spid)\n",
    "        metadata = {\n",
    "            'id': track_spid,\n",
    "            'isrc': info['external_ids']['isrc'],\n",
    "            'track': info['name'],\n",
    "            'artists': [artist['name'] for artist in info['artists']],\n",
    "            'album': info['album']['name'],\n",
    "            'release_date': pd.to_datetime(info['album']['release_date']),\n",
    "            'release_year': pd.to_datetime(info['album']['release_date']).year,\n",
    "            'length_ms': info['duration_ms'],\n",
    "            'explicit': info['explicit'],\n",
    "            'popularity': info['popularity']\n",
    "        }\n",
    "        metadata_list.append(metadata)\n",
    "    metadata_df = pd.DataFrame(metadata_list)\n",
    "    return metadata_df"
   ]
  },
  {
   "cell_type": "code",
   "execution_count": null,
   "metadata": {},
   "outputs": [],
   "source": [
    "metadata_df = get_metadata(df['spid'])\n",
    "metadata_df"
   ]
  },
  {
   "cell_type": "code",
   "execution_count": null,
   "metadata": {},
   "outputs": [],
   "source": [
    "metadata_df.to_csv('metadata.csv')"
   ]
  },
  {
   "cell_type": "code",
   "execution_count": null,
   "metadata": {},
   "outputs": [],
   "source": [
    "test_df = pd.read_csv('../data/spotify/metadata.csv', index_col=0)\n",
    "test_df = test_df[100:150].copy()\n",
    "test_df.head()"
   ]
  },
  {
   "cell_type": "code",
   "execution_count": null,
   "metadata": {},
   "outputs": [],
   "source": [
    "# function to get track audio features given a list of spotify ids\n",
    "\n",
    "def get_audio_features(track_spids):\n",
    "    features_list = []\n",
    "    for track_spid in track_spids:\n",
    "        features = sp.audio_features(track_spid)\n",
    "        features_cols = ['id', 'danceability', 'energy', 'key', 'loudness', 'mode','speechiness',\n",
    "                        'acousticness', 'instrumentalness', 'liveness', 'valence', 'tempo']\n",
    "        features_list.append(pd.DataFrame(features, columns=features_cols))\n",
    "    features_df = pd.concat(features_list, ignore_index=True)\n",
    "    return features_df\n",
    "\n",
    "\n",
    "import pandas as pd\n",
    "\n",
    "def get_audio_features(track_spids):\n",
    "    features_list = []\n",
    "    for track_spid in track_spids:\n",
    "        features = sp.audio_features(track_spid)\n",
    "        if features:\n",
    "            features[0]['id'] = track_spid  # Add track ID to features\n",
    "            features_list.append(features[0])\n",
    "\n",
    "    features_df = pd.DataFrame(features_list)\n",
    "    return features_df\n"
   ]
  },
  {
   "cell_type": "code",
   "execution_count": null,
   "metadata": {},
   "outputs": [],
   "source": [
    "# function to get track audio features given a list of spotify ids\n",
    "\n",
    "def get_audio_features(track_spids):\n",
    "    features_list = []\n",
    "\n",
    "    for i in range(0, len(track_spids), 100):\n",
    "        batch = track_spids[i:i+100]\n",
    "        features = sp.audio_features(batch)\n",
    "        features_list.extend(features)\n",
    "\n",
    "    select_cols = ['id', 'danceability', 'energy', 'key', 'loudness', 'mode','speechiness',\n",
    "                       'acousticness', 'instrumentalness', 'liveness', 'valence', 'tempo']\n",
    "        \n",
    "    features_df = pd.DataFrame(features_list)\n",
    "    return features_df\n",
    "\n"
   ]
  },
  {
   "cell_type": "code",
   "execution_count": null,
   "metadata": {},
   "outputs": [],
   "source": [
    "feat_df = get_audio_features(test_df['id'])\n",
    "feat_df\n"
   ]
  },
  {
   "cell_type": "code",
   "execution_count": null,
   "metadata": {},
   "outputs": [],
   "source": []
  },
  {
   "cell_type": "code",
   "execution_count": null,
   "metadata": {},
   "outputs": [],
   "source": [
    "requests_per_minute = 180\n",
    "@sleep_and_retry\n",
    "@limits(calls=requests_per_minute, period=60)\n",
    "def rate_limited_grab_features(track_id): \n",
    "    features = sp.audio_features(track_id)[0]\n",
    "    return features \n",
    "\n",
    "\n",
    "\n",
    "# Initialize an empty list to hold audio features\n",
    "audio_features_list = []\n",
    "# The Spotify API allows you to get audio features for multiple tracks in one request (max 100 at a time)\n",
    "\n",
    "for i in range(0, len(track_ids), 100):\n",
    "    batch = track_ids[i:i + 100]\n",
    "    audio_features_results = sp.audio_features(batch)\n",
    "    audio_features_list.extend(audio_features_results)\n",
    "\n",
    "# Convert the list of audio features to a DataFrame\n",
    "audio_features_df = pd.DataFrame(audio_features_list)\n",
    "\n",
    "# Merge the original DataFrame with the audio features DataFrame\n",
    "result_df = pd.merge(df, audio_features_df, left_on='Track ID', right_on='id', how='left')\n",
    "\n",
    "# Write the resulting DataFrame to a new CSV file with semicolon as the delimiter\n",
    "result_df.to_csv('tracks_with_audio_features.csv', sep=';', index=False)"
   ]
  },
  {
   "cell_type": "markdown",
   "metadata": {},
   "source": [
    "## functions for playlist id"
   ]
  },
  {
   "cell_type": "code",
   "execution_count": null,
   "metadata": {},
   "outputs": [],
   "source": [
    "# function to return a dataframe of track metadata for a given playlist\n",
    "\n",
    "def get_tracklist(playlist_id):\n",
    "        \n",
    "        # get playlist name and info\n",
    "        playlist_name = sp.playlist(playlist_id)['name']\n",
    "        playlist_info = sp.playlist(playlist_id)['tracks']['items']\n",
    "        \n",
    "        # get info for each track in playlist\n",
    "        tracklist = []\n",
    "        \n",
    "        for item in playlist_info:\n",
    "             artist_info = item['track']['artists']\n",
    "             artist_names = [artist['name'] for artist in artist_info]\n",
    "             artist_ids = [artist['id'] for artist in artist_info]\n",
    "             \n",
    "             tracklist.append({\n",
    "                    'isrc': item['track']['external_ids']['isrc'],\n",
    "                    #'upc': item['track']['external_ids']['upc'],\n",
    "                    'track': item['track']['name'],\n",
    "                    'track_id': item['track']['id'],\n",
    "                    'artist': artist_names,\n",
    "                    'artist_id': artist_ids,\n",
    "                    'album': item['track']['album']['name'],\n",
    "                    'album_id': item['track']['album']['id'],\n",
    "                    'release_date': pd.to_datetime(item['track']['album']['release_date']),\n",
    "                    'release_year': pd.to_datetime(item['track']['album']['release_date']).year,\n",
    "                    'length_ms': item['track']['duration_ms'],\n",
    "                    'explicit': item['track']['explicit'],\n",
    "                    'popularity': item['track']['popularity']\n",
    "             })\n",
    "        \n",
    "        tracklist_df = pd.DataFrame(tracklist)\n",
    "\n",
    "        # insert column for input playlist name\n",
    "        tracklist_df.insert(0, 'playlist', playlist_name)\n",
    "\n",
    "        return tracklist_df"
   ]
  },
  {
   "cell_type": "code",
   "execution_count": null,
   "metadata": {},
   "outputs": [],
   "source": [
    "# function to return a dataframe of audio features for a given track\n",
    "\n",
    "def get_features(track_id):\n",
    "    \n",
    "    # get audio features\n",
    "    features = sp.audio_features(track_id)\n",
    "    \n",
    "    # select features to keep\n",
    "    select_cols = ['id', 'danceability', 'energy', 'key', 'loudness', 'mode','speechiness',\n",
    "                   'acousticness', 'instrumentalness', 'liveness', 'valence', 'tempo']\n",
    "    \n",
    "    # create dataframe with select columns\n",
    "    features_df = pd.DataFrame(features, columns=select_cols)\n",
    "    \n",
    "    return features_df"
   ]
  },
  {
   "cell_type": "code",
   "execution_count": null,
   "metadata": {},
   "outputs": [],
   "source": [
    "# function to return combined dataframe\n",
    "\n",
    "def get_track_data(playlist_urls):\n",
    "    \n",
    "    # check that input is a list, convert if not\n",
    "    if not isinstance(playlist_urls, list):\n",
    "        playlist_urls = [playlist_urls]\n",
    "    \n",
    "    # extract playlist IDs from URLs\n",
    "    playlist_ids = []\n",
    "    for playlist_url in playlist_urls:\n",
    "        playlist_id = playlist_url.split('/')[-1].split('?')[0]\n",
    "        playlist_ids.append(playlist_id)\n",
    "        \n",
    "    # create empty list to store playlist dataframes\n",
    "    playlists = []\n",
    "\n",
    "    for playlist_id in playlist_ids:\n",
    "        # create dataframe of track metadata\n",
    "        tracklist_df = get_tracklist(playlist_id)\n",
    "        \n",
    "        # create dataframe of track audio features\n",
    "        features_df = pd.concat([get_features(track_id) for track_id in tracklist_df['track_id']], ignore_index=True)\n",
    "\n",
    "        # merge dataframes\n",
    "        playlist_df = pd.merge(tracklist_df, features_df, left_on='track_id', right_on='id')\n",
    "        playlist_df.drop('id', axis=1, inplace=True)\n",
    "\n",
    "        # add dataframe to list\n",
    "        playlists.append(playlist_df)\n",
    "    \n",
    "    # concatenate all dataframes\n",
    "    playlists_df = pd.concat(playlists, ignore_index=True)\n",
    "    \n",
    "    return playlists_df"
   ]
  },
  {
   "cell_type": "markdown",
   "metadata": {},
   "source": [
    "## appendix"
   ]
  },
  {
   "cell_type": "code",
   "execution_count": null,
   "metadata": {},
   "outputs": [],
   "source": [
    "# troubleshooting - compare top results for track+artist search\n",
    "\n",
    "track = None\n",
    "artist = None\n",
    "\n",
    "results = sp.search(f'{track} {artist}', type='track', limit=10)['tracks']['items']\n",
    "\n",
    "result_list = []\n",
    "\n",
    "for x in range(0,10):\n",
    "    name = results[x]['name']\n",
    "    album = results[x]['album']['name']\n",
    "    spid = results[x]['id']\n",
    "    external_ids = results[x]['external_ids']\n",
    "\n",
    "    result_info = {'track': name, 'album': album, 'spid': spid, 'ids': external_ids}\n",
    "    result_list.append(result_info)\n",
    "\n",
    "result_df = pd.DataFrame(result_list)\n",
    "result_df"
   ]
  },
  {
   "cell_type": "code",
   "execution_count": null,
   "metadata": {},
   "outputs": [],
   "source": [
    "# list of links to my annual top songs playlist 2016-2023\n",
    "\n",
    "annual_playlists = ['https://open.spotify.com/playlist/37i9dQZF1CyWExfjiBGoVh?si=e227bbd1de8b42f0',\n",
    "                    'https://open.spotify.com/playlist/37i9dQZF1E9WKHP4NOmDGL?si=e3ff3539c8ae47a1',\n",
    "                    'https://open.spotify.com/playlist/37i9dQZF1EjgKOpkPK3V4h?si=71409bb3b9cc40a2',\n",
    "                    'https://open.spotify.com/playlist/37i9dQZF1Et8YfkURNRFQQ?si=e1b3f6b940a3403f',\n",
    "                    'https://open.spotify.com/playlist/37i9dQZF1EMgToN6NNFzB2?si=01b2a28d5d54452d',\n",
    "                    'https://open.spotify.com/playlist/37i9dQZF1EUMDoJuT8yJsl?si=86f7eb098f8a4a51',\n",
    "                    'https://open.spotify.com/playlist/37i9dQZF1F0sijgNaJdgit?si=2ee6884b1718473c',\n",
    "                    'https://open.spotify.com/playlist/37i9dQZF1Fa1IIVtEpGUcU?si=baa7cf66e4f54189']"
   ]
  },
  {
   "cell_type": "markdown",
   "metadata": {},
   "source": [
    "# final"
   ]
  },
  {
   "cell_type": "code",
   "execution_count": null,
   "metadata": {},
   "outputs": [],
   "source": [
    "import pandas as pd\n",
    "import time\n",
    "\n",
    "import spotipy\n",
    "from spotipy.oauth2 import SpotifyClientCredentials\n",
    "\n",
    "client_id = '3eb451f5ffa447f7a2b2398df184c7fc' # remove !!\n",
    "client_secret = '8f327632f6cb4d6b99cb69e60e0cffad' # remove !!\n",
    "\n",
    "s_id = 'cc2aa3729a554faf89adc470dd2a04b0'\n",
    "s_secret = 'db0ef2575cc64f99972ba635108cae4d'\n",
    "\n",
    "\n",
    "# set client credentials\n",
    "sp = spotipy.Spotify(auth_manager=SpotifyClientCredentials(client_id=s_id, client_secret=s_secret))"
   ]
  },
  {
   "cell_type": "code",
   "execution_count": null,
   "metadata": {},
   "outputs": [],
   "source": [
    "\n",
    "sp.track('6pWgRkpqVfxnj3WuIcJ7WP')\n",
    "#sp.audio_features('6pWgRkpqVfxnj3WuIcJ7WP')"
   ]
  },
  {
   "cell_type": "code",
   "execution_count": null,
   "metadata": {},
   "outputs": [],
   "source": [
    "sp.audio_features('6pWgRkpqVfxnj3WuIcJ7WP')"
   ]
  },
  {
   "cell_type": "code",
   "execution_count": null,
   "metadata": {},
   "outputs": [],
   "source": [
    "def get_playlist_ids(playlist_urls):\n",
    "    # check that input is a list, convert if not\n",
    "    if not isinstance(playlist_urls, list):\n",
    "        playlist_urls = [playlist_urls]\n",
    "    \n",
    "    # extract playlist IDs from URLs\n",
    "    playlist_ids = []\n",
    "    for playlist_url in playlist_urls:\n",
    "        playlist_id = playlist_url.split('/')[-1].split('?')[0]\n",
    "        playlist_ids.append(playlist_id)\n",
    "        \n",
    "    return playlist_ids"
   ]
  },
  {
   "cell_type": "code",
   "execution_count": null,
   "metadata": {},
   "outputs": [],
   "source": [
    "# function to return dataframe of metadata and audio features for each track in given playlist\n",
    "\n",
    "def get_track_data(playlist_id):\n",
    "     # get metadata for each track\n",
    "     metadata = []\n",
    "     # spotify API limits to 100 tracks, set offset to retrieve all\n",
    "     for i in range(0, 1000, 100):\n",
    "          playlist_info = sp.playlist_tracks(playlist_id, limit=100, offset=i)['items']\n",
    "          for item in playlist_info:\n",
    "               metadata.append({\n",
    "                    'id': item['track']['id'],\n",
    "                    'track': item['track']['name'],\n",
    "                    'artist': [artist['name'] for artist in item['track']['artists']],\n",
    "                    'album': item['track']['album']['name'],\n",
    "                    'release_date': pd.to_datetime(item['track']['album']['release_date']),\n",
    "                    'release_year': pd.to_datetime(item['track']['album']['release_date']).year,\n",
    "                    'length_ms': item['track']['duration_ms'],\n",
    "                    'explicit': item['track']['explicit'],\n",
    "                    'popularity': item['track']['popularity']})\n",
    "     metadata_df = pd.DataFrame(metadata)\n",
    "     # insert column for input playlist name\n",
    "     playlist_name = sp.playlist(playlist_id)['name']\n",
    "     metadata_df.insert(0, 'playlist', playlist_name)\n",
    "\n",
    "     # get audio features for each track\n",
    "     features = []\n",
    "     for id in metadata_df['id']:\n",
    "          try:\n",
    "               feature = sp.audio_features(id)[0]\n",
    "               features.append(feature)\n",
    "               time.sleep(.01)\n",
    "          except Exception as e:\n",
    "               print(f'Error getting audio features for track {id}: {e}')\n",
    "               features.append(f'Error: {e}')\n",
    "     select_cols = ['id', 'danceability', 'energy', 'key', 'loudness', 'mode','speechiness',\n",
    "                   'acousticness', 'instrumentalness', 'liveness', 'valence', 'tempo']\n",
    "     features_df = pd.DataFrame(features, columns=select_cols)\n",
    "\n",
    "     # merge and return full dataframe\n",
    "     playlist_df = pd.merge(metadata_df, features_df, on='id')\n",
    "     return playlist_df"
   ]
  },
  {
   "cell_type": "code",
   "execution_count": null,
   "metadata": {},
   "outputs": [],
   "source": [
    "# function to return audio features for a list of track ids\n",
    "\n",
    "def get_audio_features(track_id_list):\n",
    "     features = []\n",
    "     for track_id in track_id_list:\n",
    "          try:\n",
    "               feature = sp.audio_features(track_id)[0]\n",
    "               features.append(feature)\n",
    "          except Exception as e:\n",
    "               print(f'Error getting audio features for track {id}: {e}')\n",
    "               features.append(None)\n",
    "     select_cols = ['id', 'danceability', 'energy', 'key', 'loudness', 'mode','speechiness',\n",
    "                   'acousticness', 'instrumentalness', 'liveness', 'valence', 'tempo']\n",
    "     features_df = pd.DataFrame(features, columns=select_cols)\n",
    "\n",
    "     return features_df"
   ]
  },
  {
   "cell_type": "code",
   "execution_count": null,
   "metadata": {},
   "outputs": [],
   "source": [
    "# playlists from every noise at once / sound of spotify\n",
    "\n",
    "sound_of_playlists = ['https://open.spotify.com/playlist/6gS3HhOiI17QNojjPuPzqc', # pop - 428 songs\n",
    "                      'https://open.spotify.com/playlist/2ZIRxkFuqNPMnlY7vL54uK', # dance pop - 341 songs\n",
    "                      'https://open.spotify.com/playlist/6MXkE0uYF4XwU4VTtyrpfP', # hip hop - 344 songs\n",
    "                      'https://open.spotify.com/playlist/6s5MoZzR70Qef7x4bVxDO1', # rap - 344 songs\n",
    "                      'https://open.spotify.com/playlist/7dowgSWOmvdpwNkGFMUs6e', # rock - 509 songs\n",
    "                      'https://open.spotify.com/playlist/5HufsVvMDoIPr9tGzoJpW0', # modern rock - 321 songs\n",
    "                      'https://open.spotify.com/playlist/4mijVkpSXJziPiOrK7YX4M', # country - 413 songs\n",
    "                      'https://open.spotify.com/playlist/0VZfpqcbBUWC6kpP1vVrvA'] # contemporary country - 380 songs"
   ]
  },
  {
   "cell_type": "code",
   "execution_count": null,
   "metadata": {},
   "outputs": [],
   "source": [
    "get_playlist_ids(sound_of_playlists)"
   ]
  },
  {
   "cell_type": "code",
   "execution_count": null,
   "metadata": {},
   "outputs": [],
   "source": [
    "test_df = get_metadata('https://open.spotify.com/playlist/4mijVkpSXJziPiOrK7YX4M')\n",
    "test_df"
   ]
  },
  {
   "cell_type": "code",
   "execution_count": null,
   "metadata": {},
   "outputs": [],
   "source": [
    "sp.audio_features('6pWgRkpqVfxnj3WuIcJ7WP')"
   ]
  },
  {
   "cell_type": "code",
   "execution_count": null,
   "metadata": {},
   "outputs": [],
   "source": [
    "sound_of_pop = get_track_data('6gS3HhOiI17QNojjPuPzqc')\n",
    "sound_of_pop.to_csv('sound_of_pop.csv', index=False)"
   ]
  },
  {
   "cell_type": "code",
   "execution_count": null,
   "metadata": {},
   "outputs": [],
   "source": [
    "sound_of_hip_hop = get_track_data('6MXkE0uYF4XwU4VTtyrpfP')\n",
    "sound_of_hip_hop.to_csv('sound_of_hip_hop.csv', index=False)"
   ]
  },
  {
   "cell_type": "code",
   "execution_count": null,
   "metadata": {},
   "outputs": [],
   "source": [
    "sound_of_rock = get_metadata('7dowgSWOmvdpwNkGFMUs6e')\n",
    "sound_of_rock\n",
    "#sound_of_rock.to_csv('sound_of_rock.csv', index=False)"
   ]
  },
  {
   "cell_type": "code",
   "execution_count": null,
   "metadata": {},
   "outputs": [],
   "source": [
    "sp.audio_features('4VP8QiCeaZq8BeTIUrMQOG')"
   ]
  },
  {
   "cell_type": "code",
   "execution_count": null,
   "metadata": {},
   "outputs": [],
   "source": [
    "sound_of_country = get_track_data('6MXkE0uYF4XwU4VTtyrpfP')\n",
    "sound_of_country.to_csv('sound_of_country.csv', index=False)"
   ]
  },
  {
   "cell_type": "code",
   "execution_count": null,
   "metadata": {},
   "outputs": [],
   "source": []
  },
  {
   "cell_type": "code",
   "execution_count": null,
   "metadata": {},
   "outputs": [],
   "source": [
    "hip_hop_data = pd.read_csv('../data/sound_of/sound_of_hip_hop.csv')\n",
    "hip_hop_data.head()"
   ]
  },
  {
   "cell_type": "code",
   "execution_count": null,
   "metadata": {},
   "outputs": [],
   "source": [
    "track_ids = hip_hop_data['id'].tolist()\n",
    "track_ids\n"
   ]
  },
  {
   "cell_type": "code",
   "execution_count": null,
   "metadata": {},
   "outputs": [],
   "source": [
    "features = []\n",
    "for i in range(0, len(track_ids), 100):\n",
    "    batch_ids = track_ids[i:i+100]\n",
    "    batch_features = sp.audio_features(batch_ids)\n",
    "    features.extend(batch_features)\n",
    "select_cols = ['id', 'danceability', 'energy', 'key', 'loudness', 'mode','speechiness',\n",
    "                   'acousticness', 'instrumentalness', 'liveness', 'valence', 'tempo']\n",
    "features_df = pd.DataFrame(features, columns=select_cols)\n",
    "\n",
    "     # merge and return full dataframe\n",
    "     playlist_df = pd.merge(metadata_df, features_df, on='id')\n",
    "     return playlist_df\n",
    "\n"
   ]
  }
 ],
 "metadata": {
  "kernelspec": {
   "display_name": "Python 3",
   "language": "python",
   "name": "python3"
  },
  "language_info": {
   "codemirror_mode": {
    "name": "ipython",
    "version": 3
   },
   "file_extension": ".py",
   "mimetype": "text/x-python",
   "name": "python",
   "nbconvert_exporter": "python",
   "pygments_lexer": "ipython3",
   "version": "3.8.5"
  }
 },
 "nbformat": 4,
 "nbformat_minor": 2
}

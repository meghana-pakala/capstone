{
 "cells": [
  {
   "cell_type": "code",
   "execution_count": 27,
   "metadata": {},
   "outputs": [],
   "source": [
    "import pandas as pd\n",
    "import matplotlib.pyplot as plt\n",
    "import seaborn as sns\n",
    "import nltk\n",
    "import re\n",
    "\n",
    "from nltk.corpus import stopwords\n",
    "from nltk import FreqDist\n",
    "from nltk.tokenize import word_tokenize\n",
    "from nltk.stem import PorterStemmer\n",
    "from nltk.stem import WordNetLemmatizer\n",
    "from nltk.util import ngrams\n",
    "\n",
    "from sklearn.model_selection import train_test_split, GridSearchCV\n",
    "from sklearn.pipeline import Pipeline\n",
    "from sklearn.metrics import confusion_matrix\n",
    "from sklearn.metrics import ConfusionMatrixDisplay\n",
    "\n",
    "from sklearn.feature_extraction.text import CountVectorizer, TfidfVectorizer\n",
    "from sklearn.linear_model import LogisticRegression\n",
    "from sklearn.naive_bayes import MultinomialNB\n",
    "from sklearn.svm import LinearSVC\n",
    "\n",
    "from sklearn.neighbors import KNeighborsClassifier\n",
    "from sklearn.tree import DecisionTreeClassifier\n",
    "from sklearn.ensemble import RandomForestClassifier\n",
    "from sklearn import svm\n"
   ]
  },
  {
   "cell_type": "code",
   "execution_count": 9,
   "metadata": {},
   "outputs": [],
   "source": [
    "df = pd.read_csv('data/lyrics_data.csv', index_col=0)\n"
   ]
  },
  {
   "cell_type": "code",
   "execution_count": 10,
   "metadata": {},
   "outputs": [],
   "source": [
    "# function to extract list of song sections\n",
    "def get_sections(lyrics):\n",
    "    # find all section headers enclosed in brackets\n",
    "    headers = re.findall(r'\\[.*?\\]', lyrics)\n",
    "    # extract values before colon\n",
    "    sections = [re.findall(r'\\[([^:]+)', header)[0] for header in headers]\n",
    "    # remove non-letter characters and create list of unique values\n",
    "    sections = [re.sub(r'[^a-zA-Z\\s]', '', section) for section in sections]\n",
    "    sections = [word for section in sections for word in section.split()]\n",
    "    sections = list(set(sections))\n",
    "    return sections"
   ]
  },
  {
   "cell_type": "code",
   "execution_count": 11,
   "metadata": {},
   "outputs": [],
   "source": [
    "# function to remove headers, footers, and extra spaces\n",
    "def clean_text(lyrics):\n",
    "    lyrics = re.sub(r'^.*?Lyrics', '', lyrics)\n",
    "    lyrics = re.sub(r'\\d*Embed\\b', '', lyrics)\n",
    "    lyrics = re.sub(r'\\s+', ' ', lyrics)\n",
    "    lyrics = re.sub(r'\\n\\s*\\n', '\\n', lyrics)\n",
    "    return lyrics"
   ]
  },
  {
   "cell_type": "code",
   "execution_count": 12,
   "metadata": {},
   "outputs": [],
   "source": [
    "custom_sw = [\"i'd\", \"i'm\",\n",
    "             'yeah', 'ah', 'oh']\n",
    "\n",
    "sw = set(stopwords.words('english'))\n",
    "sw.update(custom_sw)"
   ]
  },
  {
   "cell_type": "code",
   "execution_count": 13,
   "metadata": {},
   "outputs": [],
   "source": [
    "# function to clean lyric text\n",
    "\n",
    "def preprocess_lyrics(lyrics):\n",
    "    \n",
    "    # remove text before section header\n",
    "    lyrics = re.sub(r'\\[.*?\\]', '', lyrics)\n",
    "\n",
    "    # remove section headers inside brackets\n",
    "    lyrics = re.sub(r'\\[.*?\\]', '', lyrics)\n",
    "\n",
    "    # replace new line with space\n",
    "    lyrics = lyrics.replace('\\n', ' ')\n",
    "\n",
    "    # remove numbers and special characters\n",
    "    lyrics = re.sub(r'[^a-zA-Z\\s]', '', lyrics)\n",
    "\n",
    "    # replace dashes with space\n",
    "    #lyrics = lyrics.replace('-', ' ')\n",
    "\n",
    "    # lowercase all - or analyze based on capitalization such as names, cities, etc.\n",
    "    lyrics = lyrics.lower()\n",
    "\n",
    "    # remove stopwords - set custom list or don't remove\n",
    "    lyrics = ' '.join([word for word in lyrics.split() if word not in sw])\n",
    "\n",
    "    return lyrics\n"
   ]
  },
  {
   "cell_type": "code",
   "execution_count": 14,
   "metadata": {},
   "outputs": [],
   "source": [
    "# extract song sections and apply basic text cleaning\n",
    "df['sections'] = df['lyrics'].apply(get_sections)\n",
    "df['lyrics'] = df['lyrics'].apply(clean_text)"
   ]
  },
  {
   "cell_type": "code",
   "execution_count": 15,
   "metadata": {},
   "outputs": [
    {
     "data": {
      "text/html": [
       "<div>\n",
       "<style scoped>\n",
       "    .dataframe tbody tr th:only-of-type {\n",
       "        vertical-align: middle;\n",
       "    }\n",
       "\n",
       "    .dataframe tbody tr th {\n",
       "        vertical-align: top;\n",
       "    }\n",
       "\n",
       "    .dataframe thead th {\n",
       "        text-align: right;\n",
       "    }\n",
       "</style>\n",
       "<table border=\"1\" class=\"dataframe\">\n",
       "  <thead>\n",
       "    <tr style=\"text-align: right;\">\n",
       "      <th></th>\n",
       "      <th>genre</th>\n",
       "      <th>id</th>\n",
       "      <th>track</th>\n",
       "      <th>artist</th>\n",
       "      <th>album</th>\n",
       "      <th>release_date</th>\n",
       "      <th>release_year</th>\n",
       "      <th>length_ms</th>\n",
       "      <th>explicit</th>\n",
       "      <th>popularity</th>\n",
       "      <th>...</th>\n",
       "      <th>mode</th>\n",
       "      <th>speechiness</th>\n",
       "      <th>acousticness</th>\n",
       "      <th>instrumentalness</th>\n",
       "      <th>liveness</th>\n",
       "      <th>valence</th>\n",
       "      <th>tempo</th>\n",
       "      <th>lyrics</th>\n",
       "      <th>sections</th>\n",
       "      <th>lyrics_text</th>\n",
       "    </tr>\n",
       "  </thead>\n",
       "  <tbody>\n",
       "    <tr>\n",
       "      <th>0</th>\n",
       "      <td>pop</td>\n",
       "      <td>1V6gIisPpYqgFeWbMLI0bA</td>\n",
       "      <td>Heart Attack</td>\n",
       "      <td>['Demi Lovato']</td>\n",
       "      <td>Demi</td>\n",
       "      <td>2013-01-01</td>\n",
       "      <td>2013</td>\n",
       "      <td>210840</td>\n",
       "      <td>False</td>\n",
       "      <td>85</td>\n",
       "      <td>...</td>\n",
       "      <td>1</td>\n",
       "      <td>0.1040</td>\n",
       "      <td>0.0738</td>\n",
       "      <td>0.000000</td>\n",
       "      <td>0.2390</td>\n",
       "      <td>0.502</td>\n",
       "      <td>173.968</td>\n",
       "      <td>[Intro] Puttin' my defenses up 'Cause I don't ...</td>\n",
       "      <td>[Chorus, PreChorus, Verse, Intro, Bridge]</td>\n",
       "      <td>puttin defenses cause dont wanna fall love eve...</td>\n",
       "    </tr>\n",
       "    <tr>\n",
       "      <th>1</th>\n",
       "      <td>pop</td>\n",
       "      <td>0K6iKgHPPhAb4Acmg9aD77</td>\n",
       "      <td>On My Love</td>\n",
       "      <td>['Zara Larsson', 'David Guetta']</td>\n",
       "      <td>On My Love (Sped Up)</td>\n",
       "      <td>2023-09-12</td>\n",
       "      <td>2023</td>\n",
       "      <td>222911</td>\n",
       "      <td>False</td>\n",
       "      <td>76</td>\n",
       "      <td>...</td>\n",
       "      <td>0</td>\n",
       "      <td>0.0460</td>\n",
       "      <td>0.0724</td>\n",
       "      <td>0.002900</td>\n",
       "      <td>0.0881</td>\n",
       "      <td>0.316</td>\n",
       "      <td>123.069</td>\n",
       "      <td>[Intro] (That's on my love) (That's on my love...</td>\n",
       "      <td>[Chorus, PreChorus, Verse, Intro, Drop]</td>\n",
       "      <td>thats love thats love dont need time make mind...</td>\n",
       "    </tr>\n",
       "    <tr>\n",
       "      <th>2</th>\n",
       "      <td>pop</td>\n",
       "      <td>4e4fqjx0Izh4svvTef1z7e</td>\n",
       "      <td>Meant to Be (feat. Florida Georgia Line)</td>\n",
       "      <td>['Bebe Rexha', 'Florida Georgia Line']</td>\n",
       "      <td>Expectations</td>\n",
       "      <td>2018-06-22</td>\n",
       "      <td>2018</td>\n",
       "      <td>164205</td>\n",
       "      <td>False</td>\n",
       "      <td>77</td>\n",
       "      <td>...</td>\n",
       "      <td>1</td>\n",
       "      <td>0.0848</td>\n",
       "      <td>0.0476</td>\n",
       "      <td>0.000000</td>\n",
       "      <td>0.0646</td>\n",
       "      <td>0.589</td>\n",
       "      <td>153.995</td>\n",
       "      <td>January:Albums:Weezer (Teal Album) Bring Me th...</td>\n",
       "      <td>[Cardi, Ray, Edition, feat, Chainz, Deluxe, Bi...</td>\n",
       "      <td>januaryalbumsweezer teal album bring horizon a...</td>\n",
       "    </tr>\n",
       "    <tr>\n",
       "      <th>3</th>\n",
       "      <td>pop</td>\n",
       "      <td>0HPD5WQqrq7wPWR7P7Dw1i</td>\n",
       "      <td>TiK ToK</td>\n",
       "      <td>['Kesha']</td>\n",
       "      <td>Animal (Expanded Edition)</td>\n",
       "      <td>2010-01-01</td>\n",
       "      <td>2010</td>\n",
       "      <td>199693</td>\n",
       "      <td>False</td>\n",
       "      <td>86</td>\n",
       "      <td>...</td>\n",
       "      <td>0</td>\n",
       "      <td>0.1420</td>\n",
       "      <td>0.0991</td>\n",
       "      <td>0.000000</td>\n",
       "      <td>0.2890</td>\n",
       "      <td>0.714</td>\n",
       "      <td>120.028</td>\n",
       "      <td>[Verse 1] Wake up in the morning feelin' like ...</td>\n",
       "      <td>[Chorus, Break, PreChorus, Verse, Bridge]</td>\n",
       "      <td>wake morning feelin like p diddy hey girl grab...</td>\n",
       "    </tr>\n",
       "    <tr>\n",
       "      <th>4</th>\n",
       "      <td>pop</td>\n",
       "      <td>3zHq9ouUJQFQRf3cm1rRLu</td>\n",
       "      <td>Love Me Like You Do - From \"Fifty Shades Of Grey\"</td>\n",
       "      <td>['Ellie Goulding']</td>\n",
       "      <td>Delirium (Deluxe)</td>\n",
       "      <td>2015-11-06</td>\n",
       "      <td>2015</td>\n",
       "      <td>252534</td>\n",
       "      <td>False</td>\n",
       "      <td>80</td>\n",
       "      <td>...</td>\n",
       "      <td>1</td>\n",
       "      <td>0.0484</td>\n",
       "      <td>0.2470</td>\n",
       "      <td>0.000000</td>\n",
       "      <td>0.1250</td>\n",
       "      <td>0.275</td>\n",
       "      <td>189.857</td>\n",
       "      <td>Song of the YearKendrick Lamar - Alright Taylo...</td>\n",
       "      <td>[]</td>\n",
       "      <td>song yearkendrick lamar alright taylor swift b...</td>\n",
       "    </tr>\n",
       "    <tr>\n",
       "      <th>...</th>\n",
       "      <td>...</td>\n",
       "      <td>...</td>\n",
       "      <td>...</td>\n",
       "      <td>...</td>\n",
       "      <td>...</td>\n",
       "      <td>...</td>\n",
       "      <td>...</td>\n",
       "      <td>...</td>\n",
       "      <td>...</td>\n",
       "      <td>...</td>\n",
       "      <td>...</td>\n",
       "      <td>...</td>\n",
       "      <td>...</td>\n",
       "      <td>...</td>\n",
       "      <td>...</td>\n",
       "      <td>...</td>\n",
       "      <td>...</td>\n",
       "      <td>...</td>\n",
       "      <td>...</td>\n",
       "      <td>...</td>\n",
       "      <td>...</td>\n",
       "    </tr>\n",
       "    <tr>\n",
       "      <th>2432</th>\n",
       "      <td>country</td>\n",
       "      <td>6olKv2HP3XgBpvVxAswowe</td>\n",
       "      <td>Bartender</td>\n",
       "      <td>['Lady A']</td>\n",
       "      <td>747</td>\n",
       "      <td>2014-09-30</td>\n",
       "      <td>2014</td>\n",
       "      <td>198266</td>\n",
       "      <td>False</td>\n",
       "      <td>66</td>\n",
       "      <td>...</td>\n",
       "      <td>0</td>\n",
       "      <td>0.0340</td>\n",
       "      <td>0.0198</td>\n",
       "      <td>0.000007</td>\n",
       "      <td>0.3270</td>\n",
       "      <td>0.654</td>\n",
       "      <td>101.011</td>\n",
       "      <td>[Verse 1] 8 o’clock on Friday night I’m still ...</td>\n",
       "      <td>[Bridge, Chorus, Verse]</td>\n",
       "      <td>oclock friday night im still home girls keep b...</td>\n",
       "    </tr>\n",
       "    <tr>\n",
       "      <th>2433</th>\n",
       "      <td>country</td>\n",
       "      <td>0DAjiINHQTnPnnY939Qyhw</td>\n",
       "      <td>Let It Rain</td>\n",
       "      <td>['David Nail', 'Sarah Buxton']</td>\n",
       "      <td>Let It Rain</td>\n",
       "      <td>2011-01-01</td>\n",
       "      <td>2011</td>\n",
       "      <td>222253</td>\n",
       "      <td>False</td>\n",
       "      <td>51</td>\n",
       "      <td>...</td>\n",
       "      <td>1</td>\n",
       "      <td>0.0405</td>\n",
       "      <td>0.3850</td>\n",
       "      <td>0.000001</td>\n",
       "      <td>0.2470</td>\n",
       "      <td>0.561</td>\n",
       "      <td>77.881</td>\n",
       "      <td>[Verse 1: David Nail] It's hard to find the pe...</td>\n",
       "      <td>[Break, Instrumental, Chorus, Verse]</td>\n",
       "      <td>hard find perfect time say something know gonn...</td>\n",
       "    </tr>\n",
       "    <tr>\n",
       "      <th>2434</th>\n",
       "      <td>country</td>\n",
       "      <td>2oHW5EW14gL2VG4q0gRh6j</td>\n",
       "      <td>Fine Wine</td>\n",
       "      <td>['Runaway June']</td>\n",
       "      <td>Smoke, Wine &amp; Whiskey</td>\n",
       "      <td>2024-01-26</td>\n",
       "      <td>2024</td>\n",
       "      <td>164413</td>\n",
       "      <td>False</td>\n",
       "      <td>44</td>\n",
       "      <td>...</td>\n",
       "      <td>0</td>\n",
       "      <td>0.0395</td>\n",
       "      <td>0.5140</td>\n",
       "      <td>0.000000</td>\n",
       "      <td>0.1420</td>\n",
       "      <td>0.856</td>\n",
       "      <td>106.502</td>\n",
       "      <td>[Verse 1] I tried to get over him sober But I ...</td>\n",
       "      <td>[Bridge, Chorus, Verse]</td>\n",
       "      <td>tried get sober didnt get far im gonna pour cl...</td>\n",
       "    </tr>\n",
       "    <tr>\n",
       "      <th>2435</th>\n",
       "      <td>country</td>\n",
       "      <td>6Ser4pIAKEoXok7eDJPRK7</td>\n",
       "      <td>The Devil I Know</td>\n",
       "      <td>['Ashley McBryde']</td>\n",
       "      <td>The Devil I Know</td>\n",
       "      <td>2023-09-08</td>\n",
       "      <td>2023</td>\n",
       "      <td>187880</td>\n",
       "      <td>False</td>\n",
       "      <td>57</td>\n",
       "      <td>...</td>\n",
       "      <td>1</td>\n",
       "      <td>0.0437</td>\n",
       "      <td>0.0861</td>\n",
       "      <td>0.000000</td>\n",
       "      <td>0.1100</td>\n",
       "      <td>0.607</td>\n",
       "      <td>168.184</td>\n",
       "      <td>[Verse 1] A little outside of Elizabethtown Th...</td>\n",
       "      <td>[PreChorus, PostChorus, Chorus, Verse]</td>\n",
       "      <td>little outside elizabethtown theres little bar...</td>\n",
       "    </tr>\n",
       "    <tr>\n",
       "      <th>2436</th>\n",
       "      <td>country</td>\n",
       "      <td>3x5VSzCT9x9LB6uPomLZXs</td>\n",
       "      <td>Runaway</td>\n",
       "      <td>['Love and Theft']</td>\n",
       "      <td>World Wide Open</td>\n",
       "      <td>2009-01-01</td>\n",
       "      <td>2009</td>\n",
       "      <td>229760</td>\n",
       "      <td>False</td>\n",
       "      <td>40</td>\n",
       "      <td>...</td>\n",
       "      <td>0</td>\n",
       "      <td>0.0416</td>\n",
       "      <td>0.1530</td>\n",
       "      <td>0.000000</td>\n",
       "      <td>0.1170</td>\n",
       "      <td>0.653</td>\n",
       "      <td>140.496</td>\n",
       "      <td>It's been a long week I've got a slow leak in ...</td>\n",
       "      <td>[]</td>\n",
       "      <td>long week ive got slow leak left front tire im...</td>\n",
       "    </tr>\n",
       "  </tbody>\n",
       "</table>\n",
       "<p>2437 rows × 24 columns</p>\n",
       "</div>"
      ],
      "text/plain": [
       "        genre                      id  \\\n",
       "0         pop  1V6gIisPpYqgFeWbMLI0bA   \n",
       "1         pop  0K6iKgHPPhAb4Acmg9aD77   \n",
       "2         pop  4e4fqjx0Izh4svvTef1z7e   \n",
       "3         pop  0HPD5WQqrq7wPWR7P7Dw1i   \n",
       "4         pop  3zHq9ouUJQFQRf3cm1rRLu   \n",
       "...       ...                     ...   \n",
       "2432  country  6olKv2HP3XgBpvVxAswowe   \n",
       "2433  country  0DAjiINHQTnPnnY939Qyhw   \n",
       "2434  country  2oHW5EW14gL2VG4q0gRh6j   \n",
       "2435  country  6Ser4pIAKEoXok7eDJPRK7   \n",
       "2436  country  3x5VSzCT9x9LB6uPomLZXs   \n",
       "\n",
       "                                                  track  \\\n",
       "0                                          Heart Attack   \n",
       "1                                            On My Love   \n",
       "2              Meant to Be (feat. Florida Georgia Line)   \n",
       "3                                               TiK ToK   \n",
       "4     Love Me Like You Do - From \"Fifty Shades Of Grey\"   \n",
       "...                                                 ...   \n",
       "2432                                          Bartender   \n",
       "2433                                        Let It Rain   \n",
       "2434                                          Fine Wine   \n",
       "2435                                   The Devil I Know   \n",
       "2436                                            Runaway   \n",
       "\n",
       "                                      artist                      album  \\\n",
       "0                            ['Demi Lovato']                       Demi   \n",
       "1           ['Zara Larsson', 'David Guetta']       On My Love (Sped Up)   \n",
       "2     ['Bebe Rexha', 'Florida Georgia Line']               Expectations   \n",
       "3                                  ['Kesha']  Animal (Expanded Edition)   \n",
       "4                         ['Ellie Goulding']          Delirium (Deluxe)   \n",
       "...                                      ...                        ...   \n",
       "2432                              ['Lady A']                        747   \n",
       "2433          ['David Nail', 'Sarah Buxton']                Let It Rain   \n",
       "2434                        ['Runaway June']      Smoke, Wine & Whiskey   \n",
       "2435                      ['Ashley McBryde']           The Devil I Know   \n",
       "2436                      ['Love and Theft']            World Wide Open   \n",
       "\n",
       "     release_date  release_year  length_ms  explicit  popularity  ...  mode  \\\n",
       "0      2013-01-01          2013     210840     False          85  ...     1   \n",
       "1      2023-09-12          2023     222911     False          76  ...     0   \n",
       "2      2018-06-22          2018     164205     False          77  ...     1   \n",
       "3      2010-01-01          2010     199693     False          86  ...     0   \n",
       "4      2015-11-06          2015     252534     False          80  ...     1   \n",
       "...           ...           ...        ...       ...         ...  ...   ...   \n",
       "2432   2014-09-30          2014     198266     False          66  ...     0   \n",
       "2433   2011-01-01          2011     222253     False          51  ...     1   \n",
       "2434   2024-01-26          2024     164413     False          44  ...     0   \n",
       "2435   2023-09-08          2023     187880     False          57  ...     1   \n",
       "2436   2009-01-01          2009     229760     False          40  ...     0   \n",
       "\n",
       "      speechiness  acousticness  instrumentalness  liveness  valence    tempo  \\\n",
       "0          0.1040        0.0738          0.000000    0.2390    0.502  173.968   \n",
       "1          0.0460        0.0724          0.002900    0.0881    0.316  123.069   \n",
       "2          0.0848        0.0476          0.000000    0.0646    0.589  153.995   \n",
       "3          0.1420        0.0991          0.000000    0.2890    0.714  120.028   \n",
       "4          0.0484        0.2470          0.000000    0.1250    0.275  189.857   \n",
       "...           ...           ...               ...       ...      ...      ...   \n",
       "2432       0.0340        0.0198          0.000007    0.3270    0.654  101.011   \n",
       "2433       0.0405        0.3850          0.000001    0.2470    0.561   77.881   \n",
       "2434       0.0395        0.5140          0.000000    0.1420    0.856  106.502   \n",
       "2435       0.0437        0.0861          0.000000    0.1100    0.607  168.184   \n",
       "2436       0.0416        0.1530          0.000000    0.1170    0.653  140.496   \n",
       "\n",
       "                                                 lyrics  \\\n",
       "0     [Intro] Puttin' my defenses up 'Cause I don't ...   \n",
       "1     [Intro] (That's on my love) (That's on my love...   \n",
       "2     January:Albums:Weezer (Teal Album) Bring Me th...   \n",
       "3     [Verse 1] Wake up in the morning feelin' like ...   \n",
       "4     Song of the YearKendrick Lamar - Alright Taylo...   \n",
       "...                                                 ...   \n",
       "2432  [Verse 1] 8 o’clock on Friday night I’m still ...   \n",
       "2433  [Verse 1: David Nail] It's hard to find the pe...   \n",
       "2434  [Verse 1] I tried to get over him sober But I ...   \n",
       "2435  [Verse 1] A little outside of Elizabethtown Th...   \n",
       "2436  It's been a long week I've got a slow leak in ...   \n",
       "\n",
       "                                               sections  \\\n",
       "0             [Chorus, PreChorus, Verse, Intro, Bridge]   \n",
       "1               [Chorus, PreChorus, Verse, Intro, Drop]   \n",
       "2     [Cardi, Ray, Edition, feat, Chainz, Deluxe, Bi...   \n",
       "3             [Chorus, Break, PreChorus, Verse, Bridge]   \n",
       "4                                                    []   \n",
       "...                                                 ...   \n",
       "2432                            [Bridge, Chorus, Verse]   \n",
       "2433               [Break, Instrumental, Chorus, Verse]   \n",
       "2434                            [Bridge, Chorus, Verse]   \n",
       "2435             [PreChorus, PostChorus, Chorus, Verse]   \n",
       "2436                                                 []   \n",
       "\n",
       "                                            lyrics_text  \n",
       "0     puttin defenses cause dont wanna fall love eve...  \n",
       "1     thats love thats love dont need time make mind...  \n",
       "2     januaryalbumsweezer teal album bring horizon a...  \n",
       "3     wake morning feelin like p diddy hey girl grab...  \n",
       "4     song yearkendrick lamar alright taylor swift b...  \n",
       "...                                                 ...  \n",
       "2432  oclock friday night im still home girls keep b...  \n",
       "2433  hard find perfect time say something know gonn...  \n",
       "2434  tried get sober didnt get far im gonna pour cl...  \n",
       "2435  little outside elizabethtown theres little bar...  \n",
       "2436  long week ive got slow leak left front tire im...  \n",
       "\n",
       "[2437 rows x 24 columns]"
      ]
     },
     "execution_count": 15,
     "metadata": {},
     "output_type": "execute_result"
    }
   ],
   "source": [
    "df['lyrics_text'] = df['lyrics'].apply(preprocess_lyrics)\n",
    "df"
   ]
  },
  {
   "cell_type": "code",
   "execution_count": 20,
   "metadata": {},
   "outputs": [],
   "source": [
    "# drop rows that don't include song sections\n",
    "song_sections = ['Intro','Chorus', 'Verse', 'Bridge', 'Break', 'Solo', 'Instrumental', 'Outro']\n",
    "df = df[df['sections'].apply(lambda x: any(section in x for section in song_sections) if x else False)].copy()\n"
   ]
  },
  {
   "cell_type": "code",
   "execution_count": 21,
   "metadata": {},
   "outputs": [],
   "source": [
    "df['tokens'] = df['lyrics_text'].apply(lambda x: word_tokenize(x))"
   ]
  },
  {
   "cell_type": "markdown",
   "metadata": {},
   "source": [
    "# modeling"
   ]
  },
  {
   "cell_type": "code",
   "execution_count": null,
   "metadata": {},
   "outputs": [],
   "source": [
    "# organize code in eda !!"
   ]
  },
  {
   "cell_type": "code",
   "execution_count": 48,
   "metadata": {},
   "outputs": [],
   "source": [
    "def get_metrics(model, X, y,):\n",
    "    genres = ['pop', 'hip_hop', 'rock', 'country']\n",
    "    X_train, X_test, y_train, y_test = train_test_split(X, y, test_size=0.20, random_state=42, stratify=y)\n",
    "    \n",
    "    model.fit(X_train, y_train)\n",
    "    y_pred = model.predict(X_test)\n",
    "    train_score = model.score(X_train, y_train)\n",
    "    \n",
    "    #store results\n",
    "    data = confusion_matrix(y_test, y_pred)\n",
    "    results = {genres[i] : data[i][i]/sum(data[i]) for i in range(0, len(data))}\n",
    "    \n",
    "    result_df = pd.DataFrame(results, index=[0])\n",
    "    result_df['model'] = f'Model: {model}'\n",
    "    result_df['train_accuracy'] = train_score\n",
    "    result_df['test_accuracy'] = model.score(X_test, y_test)\n",
    "    return result_df[['model', 'train_accuracy', 'test_accuracy'] + genres]"
   ]
  },
  {
   "cell_type": "code",
   "execution_count": 49,
   "metadata": {},
   "outputs": [],
   "source": [
    "# def create_confusion_matrix(df, name, conf_mat):\n",
    "#     plt.subplots(figsize=(3,3))\n",
    "#     sns.heatmap(conf_mat, annot=True, fmt='d',\n",
    "#                 xticklabels=set(df.Genre.values), yticklabels=set(df.Genre.values), square=True)\n",
    "#     plt.title(name)\n",
    "#     plt.ylabel('Actual')\n",
    "#     plt.xlabel('Predicted')"
   ]
  },
  {
   "cell_type": "code",
   "execution_count": 29,
   "metadata": {},
   "outputs": [],
   "source": [
    "# train test split\n",
    "X = df['lyrics_text']\n",
    "y = df['genre']\n",
    "\n",
    "X_train, X_test, y_train, y_test = train_test_split(X, y, test_size=0.20, random_state=42, stratify=y)"
   ]
  },
  {
   "cell_type": "code",
   "execution_count": 30,
   "metadata": {},
   "outputs": [
    {
     "data": {
      "text/plain": [
       "rock       0.312268\n",
       "pop        0.254647\n",
       "country    0.244734\n",
       "hip hop    0.188352\n",
       "Name: genre, dtype: float64"
      ]
     },
     "execution_count": 30,
     "metadata": {},
     "output_type": "execute_result"
    }
   ],
   "source": [
    "y_train.value_counts(normalize=True)"
   ]
  },
  {
   "cell_type": "code",
   "execution_count": 31,
   "metadata": {},
   "outputs": [
    {
     "data": {
      "text/plain": [
       "(0.9888475836431226, 0.6311881188118812)"
      ]
     },
     "execution_count": 31,
     "metadata": {},
     "output_type": "execute_result"
    }
   ],
   "source": [
    "pipe_cv_rfc = Pipeline([\n",
    "    ('cv', CountVectorizer()),\n",
    "    ('rfc', RandomForestClassifier())\n",
    "])\n",
    "\n",
    "pipe_cv_rfc.fit(X_train,y_train)\n",
    "\n",
    "pipe_cv_rfc.score(X_train, y_train), pipe_cv_rfc.score(X_test,y_test)"
   ]
  },
  {
   "cell_type": "code",
   "execution_count": 38,
   "metadata": {},
   "outputs": [
    {
     "data": {
      "image/png": "[encoded data removed]",
      "text/plain": [
       "<Figure size 432x288 with 2 Axes>"
      ]
     },
     "metadata": {
      "needs_background": "light"
     },
     "output_type": "display_data"
    }
   ],
   "source": [
    "ConfusionMatrixDisplay.from_estimator(pipe_cv_rfc, X_test, y_test, cmap=\"Blues\", normalize='true')\n",
    "plt.title(\"RFC with Count Vectorizer\");"
   ]
  },
  {
   "cell_type": "code",
   "execution_count": 47,
   "metadata": {},
   "outputs": [
    {
     "data": {
      "text/html": [
       "<div>\n",
       "<style scoped>\n",
       "    .dataframe tbody tr th:only-of-type {\n",
       "        vertical-align: middle;\n",
       "    }\n",
       "\n",
       "    .dataframe tbody tr th {\n",
       "        vertical-align: top;\n",
       "    }\n",
       "\n",
       "    .dataframe thead th {\n",
       "        text-align: right;\n",
       "    }\n",
       "</style>\n",
       "<table border=\"1\" class=\"dataframe\">\n",
       "  <thead>\n",
       "    <tr style=\"text-align: right;\">\n",
       "      <th></th>\n",
       "      <th>model</th>\n",
       "      <th>train_accuracy</th>\n",
       "      <th>test_accuracy</th>\n",
       "      <th>pop</th>\n",
       "      <th>hip_hop</th>\n",
       "      <th>rock</th>\n",
       "      <th>country</th>\n",
       "    </tr>\n",
       "  </thead>\n",
       "  <tbody>\n",
       "    <tr>\n",
       "      <th>0</th>\n",
       "      <td>Random Forest with CountVectorizer</td>\n",
       "      <td>0.988848</td>\n",
       "      <td>0.631188</td>\n",
       "      <td>0.484848</td>\n",
       "      <td>0.697368</td>\n",
       "      <td>0.427184</td>\n",
       "      <td>0.873016</td>\n",
       "    </tr>\n",
       "  </tbody>\n",
       "</table>\n",
       "</div>"
      ],
      "text/plain": [
       "                                model  train_accuracy  test_accuracy  \\\n",
       "0  Random Forest with CountVectorizer        0.988848       0.631188   \n",
       "\n",
       "        pop   hip_hop      rock   country  \n",
       "0  0.484848  0.697368  0.427184  0.873016  "
      ]
     },
     "execution_count": 47,
     "metadata": {},
     "output_type": "execute_result"
    }
   ],
   "source": [
    "get_metrics(\"Random Forest with CountVectorizer\", pipe_cv_rfc, X, y)"
   ]
  },
  {
   "cell_type": "code",
   "execution_count": 39,
   "metadata": {},
   "outputs": [
    {
     "data": {
      "text/plain": [
       "(0.9888475836431226, 0.655940594059406)"
      ]
     },
     "execution_count": 39,
     "metadata": {},
     "output_type": "execute_result"
    }
   ],
   "source": [
    "pipe_tfv_rfc = Pipeline([\n",
    "    ('tfv',TfidfVectorizer()),\n",
    "    ('rfc', RandomForestClassifier())\n",
    "])\n",
    "\n",
    "pipe_tfv_rfc.fit(X_train,y_train)\n",
    "\n",
    "pipe_tfv_rfc.score(X_train, y_train), pipe_tfv_rfc.score(X_test,y_test)"
   ]
  },
  {
   "cell_type": "code",
   "execution_count": 40,
   "metadata": {},
   "outputs": [
    {
     "data": {
      "image/png": "[encoded data removed]",
      "text/plain": [
       "<Figure size 432x288 with 2 Axes>"
      ]
     },
     "metadata": {
      "needs_background": "light"
     },
     "output_type": "display_data"
    }
   ],
   "source": [
    "ConfusionMatrixDisplay.from_estimator(pipe_tfv_rfc, X_test, y_test, cmap=\"Blues\", normalize='true')\n",
    "plt.title(\"RFC with TFID\");"
   ]
  },
  {
   "cell_type": "code",
   "execution_count": null,
   "metadata": {},
   "outputs": [],
   "source": [
    "word_counts = tfidf_df.sum()\n",
    "word_counts.sort_values(ascending=False)"
   ]
  },
  {
   "cell_type": "code",
   "execution_count": 41,
   "metadata": {},
   "outputs": [
    {
     "data": {
      "text/plain": [
       "(0.9888475836431226, 0.5222772277227723)"
      ]
     },
     "execution_count": 41,
     "metadata": {},
     "output_type": "execute_result"
    }
   ],
   "source": [
    "pipe_cv_dtc = Pipeline([\n",
    "    ('cv',CountVectorizer()),\n",
    "    ('dtc', DecisionTreeClassifier(random_state=42))]\n",
    ")\n",
    "\n",
    "pipe_cv_dtc.fit(X_train,y_train)\n",
    "\n",
    "pipe_cv_dtc.score(X_train,y_train), pipe_cv_dtc.score(X_test,y_test)"
   ]
  },
  {
   "cell_type": "code",
   "execution_count": 42,
   "metadata": {},
   "outputs": [
    {
     "data": {
      "image/png": "[encoded data removed]",
      "text/plain": [
       "<Figure size 432x288 with 2 Axes>"
      ]
     },
     "metadata": {
      "needs_background": "light"
     },
     "output_type": "display_data"
    }
   ],
   "source": [
    "ConfusionMatrixDisplay.from_estimator(pipe_cv_dtc, X_test, y_test, cmap=\"Blues\", normalize='true')\n",
    "plt.title(\"Decision Tree with CV\");"
   ]
  },
  {
   "cell_type": "code",
   "execution_count": 43,
   "metadata": {},
   "outputs": [
    {
     "data": {
      "text/plain": [
       "(0.9888475836431226, 0.49504950495049505)"
      ]
     },
     "execution_count": 43,
     "metadata": {},
     "output_type": "execute_result"
    }
   ],
   "source": [
    "pipe_tfid_dtc = Pipeline([\n",
    "    ('tfid', TfidfVectorizer()),\n",
    "    ('dtc', DecisionTreeClassifier(random_state=42))]\n",
    ")\n",
    "\n",
    "pipe_tfid_dtc.fit(X_train,y_train)\n",
    "\n",
    "pipe_tfid_dtc.score(X_train,y_train), pipe_tfid_dtc.score(X_test,y_test)"
   ]
  },
  {
   "cell_type": "code",
   "execution_count": 44,
   "metadata": {},
   "outputs": [
    {
     "data": {
      "image/png": "[encoded data removed]",
      "text/plain": [
       "<Figure size 432x288 with 2 Axes>"
      ]
     },
     "metadata": {
      "needs_background": "light"
     },
     "output_type": "display_data"
    }
   ],
   "source": [
    "ConfusionMatrixDisplay.from_estimator(pipe_tfid_dtc, X_test, y_test, cmap=\"Blues\", normalize='true')\n",
    "plt.title(\"Decision Tree with TFID\");"
   ]
  },
  {
   "cell_type": "code",
   "execution_count": null,
   "metadata": {},
   "outputs": [],
   "source": []
  }
 ],
 "metadata": {
  "kernelspec": {
   "display_name": "Python 3",
   "language": "python",
   "name": "python3"
  },
  "language_info": {
   "codemirror_mode": {
    "name": "ipython",
    "version": 3
   },
   "file_extension": ".py",
   "mimetype": "text/x-python",
   "name": "python",
   "nbconvert_exporter": "python",
   "pygments_lexer": "ipython3",
   "version": "3.8.5"
  }
 },
 "nbformat": 4,
 "nbformat_minor": 2
}

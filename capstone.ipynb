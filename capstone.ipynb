{
 "cells": [
  {
   "cell_type": "markdown",
   "metadata": {},
   "source": [
    "# AnaLyrics Engine: Predicting Music Genres with NLP"
   ]
  },
  {
   "cell_type": "markdown",
   "metadata": {},
   "source": [
    "## Business Undersatanding\n",
    "This project leverages song lyrics and metadata to classify songs into distinct music genres. Genre classification is not an exact science, and given the vast diversity of music today, there are innumerable categories a song could belong to.\n",
    "\n",
    "As a passionate music lover and avid concert goer, I tend to have a curated playlist for every possible mood and occassion. This is a tedious task to do manually, and I have often thought how nice it would be to be able to input my current mood and desired music style (ex: sad bangers) and have a playlist made personally for me.\n",
    "\n",
    "Spotify has attempted to do this with their [daylist](https://newsroom.spotify.com/2023-09-12/ever-changing-playlist-daylist-music-for-all-day/)- a personalized playlist that \"ebbs and flows with unique vibes, bringing together the niche music and microgenres you usually listen to during particular moments in the day or on specific days of the week.\"\n",
    "\n",
    "The daylist updates organically throughout the day and is based on your past listening habits. This project attempts to build on that concept by curating a playlist based on a user's desired vibe. In order to get to an end goal of song recommendations based on lyrics and audio features, the first step was to build a supervised model trained to predict a song's genre based purely on the words it contains.\n",
    "\n",
    "## Data Understanding\n",
    "The first step in building the dataset was identifying the prediction target- music genres. [Every Noise At Once](https://everynoise.com/engenremap.html) is “an ongoing attempt at an algorithmically-generated, readability-adjusted scatter-plot of the musical genre-space.\" The project was created in 2013 by Glenn McDonald, a former Spotify developer, based on data tracked and analyzed for ~6000 Spotify genres. (last updated November 2023)\n",
    "\n",
    "The songs for each genre were collected from the playlists provided by the Every Noise project, and all of the song metadata and audio features were gathered using [Spotipy](https://spotipy.readthedocs.io/en/2.22.1/), a Python wrapper for the [Spotify API](https://developer.spotify.com/documentation/web-api). Next, lyrics for each song were scraped from [Genius](https://genius.com) using [LyricsGenius](https://lyricsgenius.readthedocs.io/en/master/reference/genius.html).\n",
    "\n",
    "# Data Preparation\n",
    "To prepare the data for modeling, we performed preprocessing steps such as text cleaning, tokenization, and vectorization of lyrics. The text cleaning process before model preprocessing is outined in the [data cleaning](code/data_cleaning) notebook.\n",
    "\n",
    "After combining all the data and dropping bad records, we were left with 2024 songs.\n",
    "\n",
    "**Modeling**\n",
    "\n",
    "We then trained various models including Naive Bayes and Random Forests on the labeled dataset. Using grid search and cross-validation techniques we tuned the paramaters to minimize observed overfitting.\n",
    "\n",
    "\n",
    "\n",
    "\n",
    "\n"
   ]
  },
  {
   "cell_type": "markdown",
   "metadata": {},
   "source": [
    "# Modeling"
   ]
  },
  {
   "cell_type": "code",
   "execution_count": 161,
   "metadata": {},
   "outputs": [],
   "source": [
    "import pandas as pd\n",
    "import numpy as np\n",
    "import matplotlib.pyplot as plt\n",
    "import seaborn as sns\n",
    "sns.set_palette(\"dark\")\n",
    "\n",
    "import nltk\n",
    "import re\n",
    "from nltk.corpus import stopwords\n",
    "from nltk.tokenize import word_tokenize\n",
    "from nltk.stem import WordNetLemmatizer\n",
    "\n",
    "from sklearn.model_selection import train_test_split, KFold, cross_val_score, cross_validate, GridSearchCV\n",
    "from sklearn.metrics import classification_report, confusion_matrix, ConfusionMatrixDisplay, accuracy_score, precision_recall_fscore_support\n",
    "from sklearn.dummy import DummyClassifier\n",
    "from sklearn.pipeline import Pipeline\n",
    "from sklearn.feature_extraction.text import TfidfVectorizer, CountVectorizer\n",
    "from sklearn.naive_bayes import MultinomialNB\n",
    "from sklearn.ensemble import RandomForestClassifier\n"
   ]
  },
  {
   "cell_type": "code",
   "execution_count": 90,
   "metadata": {},
   "outputs": [
    {
     "data": {
      "text/plain": [
       "rock       31.126482\n",
       "pop        25.444664\n",
       "country    24.407115\n",
       "hip hop    19.021739\n",
       "Name: genre, dtype: float64"
      ]
     },
     "execution_count": 90,
     "metadata": {},
     "output_type": "execute_result"
    }
   ],
   "source": [
    "df = pd.read_csv('data/lyrics2.csv')\n",
    "df['genre'].value_counts(normalize=True)*100"
   ]
  },
  {
   "cell_type": "code",
   "execution_count": 85,
   "metadata": {},
   "outputs": [],
   "source": [
    "def preprocess_text(lyrics):\n",
    "    # remove numbers and special characters\n",
    "    lyrics = re.sub(r'[^a-zA-Z\\s]', '', lyrics)\n",
    "    # remove extra spaces and new lines\n",
    "    lyrics = re.sub(r'\\s+|\\n\\s*\\n', ' ', lyrics)\n",
    "    # lowercase all\n",
    "    lyrics = lyrics.lower()\n",
    "    # tokenize, lemmatize, remove stopwords\n",
    "    tokens = word_tokenize(lyrics)\n",
    "    lemmer = WordNetLemmatizer()\n",
    "    tokens = [lemmer.lemmatize(word) for word in tokens]\n",
    "    sw = stopwords.words('english')\n",
    "    tokens = ' '.join([word for word in tokens if word not in sw])\n",
    "    return tokens"
   ]
  },
  {
   "cell_type": "code",
   "execution_count": 86,
   "metadata": {},
   "outputs": [
    {
     "data": {
      "text/plain": [
       "0       puttin defense cause dont wan na fall love eve...\n",
       "1       thats love thats love dont need time make mind...\n",
       "2       wake morning feelin like p diddy hey girl grab...\n",
       "3       good gold kinda dream cant sold right til were...\n",
       "4       found heart wa broke filled cup overflowed too...\n",
       "                              ...                        \n",
       "2019    saturday night six pack girl big star shining ...\n",
       "2020    oclock friday night im still home girl keep bl...\n",
       "2021    hard find perfect time say something know gon ...\n",
       "2022    tried get sober didnt get far im gon na pour c...\n",
       "2023    little outside elizabethtown little bar id sit...\n",
       "Name: tokens, Length: 2024, dtype: object"
      ]
     },
     "execution_count": 86,
     "metadata": {},
     "output_type": "execute_result"
    }
   ],
   "source": [
    "df['tokens'] = df['lyrics_text'].apply(preprocess_text)\n",
    "df['tokens']"
   ]
  },
  {
   "cell_type": "code",
   "execution_count": 157,
   "metadata": {},
   "outputs": [],
   "source": [
    "def analyze_model(model, X, y):\n",
    "    \n",
    "    # k-fold validation \n",
    "    kfold = KFold(n_splits=5, shuffle=True, random_state=95)\n",
    "    nb_kfold_scores = cross_validate(model, X, y, cv=kfold, scoring='accuracy', return_train_score=True)\n",
    "    print('Cross-Validation Results:')\n",
    "    for fold, (train_score, test_score) in enumerate(zip(nb_kfold_scores['train_score'], nb_kfold_scores['test_score'])):\n",
    "        print(f\"Fold {fold + 1}: Train = {train_score:.3f}, Test = {test_score:.3f}\")\n",
    "    print()\n",
    "    print(f\"Avg Train Accuracy: {nb_kfold_scores['train_score'].mean():.3f}\")\n",
    "    print(f\"Avg Test Accuracy: {nb_kfold_scores['test_score'].mean():.3f}\")\n",
    "    print()\n",
    "\n",
    "    # train test split for predictions\n",
    "    X_tr, X_te, y_tr, y_te = train_test_split(X, y, test_size=0.2, random_state=95)\n",
    "    model.fit(X_tr, y_tr)\n",
    "    pred = model.predict(X_te)\n",
    "    genre_labels = np.unique(y_te)\n",
    "\n",
    "    genres = ['pop', 'rock', 'hip hop', 'country']\n",
    "    print(\"Classification Report:\")\n",
    "    print(classification_report(y_te, pred))\n",
    "\n",
    "    cm = confusion_matrix(y_te, pred, normalize='true')\n",
    "    sns.heatmap(cm, xticklabels=genre_labels, yticklabels=genre_labels,\n",
    "                annot=True, fmt='.2f', cmap='Blues')\n",
    "    plt.xlabel('Predicted')\n",
    "    plt.ylabel('Actual')\n",
    "    plt.show()"
   ]
  },
  {
   "cell_type": "code",
   "execution_count": 22,
   "metadata": {},
   "outputs": [
    {
     "data": {
      "text/plain": [
       "rock       30.574429\n",
       "pop        26.065473\n",
       "country    24.336010\n",
       "hip hop    19.024089\n",
       "Name: genre, dtype: float64"
      ]
     },
     "execution_count": 22,
     "metadata": {},
     "output_type": "execute_result"
    }
   ],
   "source": [
    "# set variables for modeling\n",
    "X = df['tokens']\n",
    "y = df['genre']\n",
    "\n",
    "# split holdout set for final model validation\n",
    "X_df, X_hold, y_df, y_hold = train_test_split(X, y, test_size=0.2, random_state=95)"
   ]
  },
  {
   "cell_type": "markdown",
   "metadata": {},
   "source": [
    "## Baseline"
   ]
  },
  {
   "cell_type": "code",
   "execution_count": 77,
   "metadata": {},
   "outputs": [
    {
     "name": "stdout",
     "output_type": "stream",
     "text": [
      "Baseline Accuracy: 0.31\n"
     ]
    }
   ],
   "source": [
    "X_tr, X_te, y_tr, y_te = train_test_split(X_df, y_df, test_size=0.2, random_state=95)\n",
    "\n",
    "# use dummy classifier as baseline model\n",
    "baseline = DummyClassifier(strategy='uniform')\n",
    "baseline.fit(X_tr, y_tr)\n",
    "base_pred = baseline.predict(X_te)\n",
    "base_score = accuracy_score(y_te, base_pred)\n",
    "print(f'Baseline Accuracy: {base_score:.2f}')"
   ]
  },
  {
   "cell_type": "markdown",
   "metadata": {},
   "source": [
    "## Naive Bayes"
   ]
  },
  {
   "cell_type": "code",
   "execution_count": 158,
   "metadata": {},
   "outputs": [
    {
     "name": "stdout",
     "output_type": "stream",
     "text": [
      "Cross-Validation Results:\n",
      "Fold 1: Train = 0.858, Test = 0.602\n",
      "Fold 2: Train = 0.870, Test = 0.617\n",
      "Fold 3: Train = 0.876, Test = 0.568\n",
      "Fold 4: Train = 0.886, Test = 0.528\n",
      "Fold 5: Train = 0.891, Test = 0.644\n",
      "\n",
      "Avg Train Accuracy: 0.876\n",
      "Avg Test Accuracy: 0.592\n",
      "\n",
      "Classification Report:\n",
      "              precision    recall  f1-score   support\n",
      "\n",
      "     country       0.79      0.57      0.66        84\n",
      "     hip hop       0.87      0.48      0.62        56\n",
      "         pop       0.61      0.47      0.53        95\n",
      "        rock       0.47      0.84      0.61        89\n",
      "\n",
      "    accuracy                           0.60       324\n",
      "   macro avg       0.69      0.59      0.61       324\n",
      "weighted avg       0.66      0.60      0.60       324\n",
      "\n"
     ]
    },
    {
     "data": {
      "image/png": "[encoded data removed]",
      "text/plain": [
       "<Figure size 432x288 with 2 Axes>"
      ]
     },
     "metadata": {
      "needs_background": "light"
     },
     "output_type": "display_data"
    }
   ],
   "source": [
    "# basic naive bayes model \n",
    "\n",
    "nb_pipe = Pipeline([\n",
    "    ('vect', TfidfVectorizer()),\n",
    "    ('clf', MultinomialNB())\n",
    "]) \n",
    "\n",
    "analyze_model(nb_pipe, X_df, y_df)"
   ]
  },
  {
   "cell_type": "code",
   "execution_count": 114,
   "metadata": {},
   "outputs": [
    {
     "name": "stdout",
     "output_type": "stream",
     "text": [
      "Naive Bayes Best Params:  {'clf__alpha': 1.0, 'vect': CountVectorizer(), 'vect__max_df': 0.75, 'vect__max_features': None, 'vect__min_df': 10}\n"
     ]
    }
   ],
   "source": [
    "# grid search for best parameters to address overfitting\n",
    "\n",
    "nb_params = {\n",
    "    'vect': [CountVectorizer(), TfidfVectorizer()],\n",
    "    'vect__max_features': [None, 200, 500],\n",
    "    'vect__min_df': [5, 10, 25],\n",
    "    'vect__max_df': [0.5, 0.75, 1.0],\n",
    "\n",
    "    'clf__alpha': [0.1, 0.5, 1.0],\n",
    "}\n",
    "\n",
    "nb_grid = GridSearchCV(nb_pipe, nb_params, cv=5, scoring='accuracy')\n",
    "nb_grid.fit(X_df, y_df)\n",
    "nb_grid.best_params_"
   ]
  },
  {
   "cell_type": "code",
   "execution_count": 159,
   "metadata": {},
   "outputs": [
    {
     "name": "stdout",
     "output_type": "stream",
     "text": [
      "Cross-Validation Results:\n",
      "Fold 1: Train = 0.812, Test = 0.627\n",
      "Fold 2: Train = 0.812, Test = 0.657\n",
      "Fold 3: Train = 0.815, Test = 0.602\n",
      "Fold 4: Train = 0.819, Test = 0.620\n",
      "Fold 5: Train = 0.804, Test = 0.625\n",
      "\n",
      "Avg Train Accuracy: 0.812\n",
      "Avg Test Accuracy: 0.626\n",
      "\n",
      "Classification Report:\n",
      "              precision    recall  f1-score   support\n",
      "\n",
      "     country       0.67      0.62      0.64        84\n",
      "     hip hop       0.70      0.88      0.78        56\n",
      "         pop       0.60      0.53      0.56        95\n",
      "        rock       0.57      0.58      0.57        89\n",
      "\n",
      "    accuracy                           0.63       324\n",
      "   macro avg       0.63      0.65      0.64       324\n",
      "weighted avg       0.62      0.63      0.62       324\n",
      "\n"
     ]
    },
    {
     "data": {
      "image/png": "[encoded data removed]",
      "text/plain": [
       "<Figure size 432x288 with 2 Axes>"
      ]
     },
     "metadata": {
      "needs_background": "light"
     },
     "output_type": "display_data"
    }
   ],
   "source": [
    "# tuned naive bayes\n",
    "\n",
    "nb_tuned = Pipeline([\n",
    "    ('vect', CountVectorizer(min_df=20, max_df=.75)),\n",
    "    ('clf', MultinomialNB(alpha=0.1))\n",
    "])\n",
    "\n",
    "analyze_model(nb_tuned, X_df, y_df)"
   ]
  },
  {
   "cell_type": "markdown",
   "metadata": {},
   "source": [
    "## Random Forest"
   ]
  },
  {
   "cell_type": "code",
   "execution_count": 162,
   "metadata": {},
   "outputs": [
    {
     "name": "stdout",
     "output_type": "stream",
     "text": [
      "Cross-Validation Results:\n",
      "Fold 1: Train = 0.987, Test = 0.630\n",
      "Fold 2: Train = 0.985, Test = 0.651\n",
      "Fold 3: Train = 0.986, Test = 0.620\n",
      "Fold 4: Train = 0.990, Test = 0.639\n",
      "Fold 5: Train = 0.984, Test = 0.690\n",
      "\n",
      "Avg Train Accuracy: 0.986\n",
      "Avg Test Accuracy: 0.646\n",
      "\n",
      "Classification Report:\n",
      "              precision    recall  f1-score   support\n",
      "\n",
      "     country       0.83      0.51      0.63        84\n",
      "     hip hop       0.83      0.88      0.85        56\n",
      "         pop       0.67      0.43      0.53        95\n",
      "        rock       0.52      0.89      0.66        89\n",
      "\n",
      "    accuracy                           0.65       324\n",
      "   macro avg       0.71      0.68      0.67       324\n",
      "weighted avg       0.70      0.65      0.65       324\n",
      "\n"
     ]
    },
    {
     "data": {
      "image/png": "[encoded data removed]",
      "text/plain": [
       "<Figure size 432x288 with 2 Axes>"
      ]
     },
     "metadata": {
      "needs_background": "light"
     },
     "output_type": "display_data"
    }
   ],
   "source": [
    "# simple random forest\n",
    "\n",
    "rf_pipe = Pipeline([\n",
    "    ('vect', TfidfVectorizer()),\n",
    "    ('clf', RandomForestClassifier())\n",
    "])\n",
    "\n",
    "analyze_model(rf_pipe, X_df, y_df)"
   ]
  },
  {
   "cell_type": "code",
   "execution_count": 175,
   "metadata": {},
   "outputs": [
    {
     "data": {
      "text/plain": [
       "{'clf__max_depth': 50,\n",
       " 'clf__min_samples_leaf': 2,\n",
       " 'clf__min_samples_split': 12,\n",
       " 'clf__n_estimators': 800}"
      ]
     },
     "execution_count": 175,
     "metadata": {},
     "output_type": "execute_result"
    }
   ],
   "source": [
    "# grid search for best parameters to address overfitting\n",
    "\n",
    "rf_params = {\n",
    "    # 'vect': [CountVectorizer(), TfidfVectorizer()],\n",
    "    # 'vect__max_features': [None, 1000, 2000],\n",
    "    # 'vect__min_df': [2, 10, 25,50],\n",
    "    # 'vect__max_df': [0.5, 0.75, 1.0],\n",
    "\n",
    "    'clf__n_estimators': [500, 600, 800],\n",
    "    'clf__max_depth': [20, 30, 50],\n",
    "    'clf__min_samples_split': [4, 6, 12],\n",
    "    'clf__min_samples_leaf': [2, 4, 7]\n",
    "}\n",
    "\n",
    "rf_grid = GridSearchCV(rf_pipe, rf_params, cv=5, scoring='accuracy')\n",
    "rf_grid.fit(X_df, y_df)\n",
    "rf_grid.best_params_\n"
   ]
  },
  {
   "cell_type": "code",
   "execution_count": 174,
   "metadata": {},
   "outputs": [
    {
     "name": "stdout",
     "output_type": "stream",
     "text": [
      "Cross-Validation Results:\n",
      "Fold 1: Train = 0.963, Test = 0.679\n",
      "Fold 2: Train = 0.960, Test = 0.679\n",
      "Fold 3: Train = 0.964, Test = 0.642\n",
      "Fold 4: Train = 0.970, Test = 0.673\n",
      "Fold 5: Train = 0.965, Test = 0.681\n",
      "\n",
      "Avg Train Accuracy: 0.964\n",
      "Avg Test Accuracy: 0.671\n",
      "\n",
      "Classification Report:\n",
      "              precision    recall  f1-score   support\n",
      "\n",
      "     country       0.80      0.48      0.60        84\n",
      "     hip hop       0.85      0.91      0.88        56\n",
      "         pop       0.75      0.51      0.60        95\n",
      "        rock       0.53      0.89      0.66        89\n",
      "\n",
      "    accuracy                           0.67       324\n",
      "   macro avg       0.73      0.69      0.69       324\n",
      "weighted avg       0.72      0.67      0.67       324\n",
      "\n"
     ]
    },
    {
     "data": {
      "image/png": "[encoded data removed]",
      "text/plain": [
       "<Figure size 432x288 with 2 Axes>"
      ]
     },
     "metadata": {
      "needs_background": "light"
     },
     "output_type": "display_data"
    }
   ],
   "source": [
    "# tuned random forest\n",
    "\n",
    "rf_tuned = Pipeline([\n",
    "    ('vect', CountVectorizer(min_df= 20, \n",
    "                             max_df= .75)),\n",
    "    ('clf', RandomForestClassifier(n_estimators=500,\n",
    "                                   max_depth=70,\n",
    "                                   min_samples_split= 3,\n",
    "                                   min_samples_leaf= 3))\n",
    "])\n",
    "\n",
    "analyze_model(rf_tuned, X_df, y_df)"
   ]
  },
  {
   "cell_type": "code",
   "execution_count": null,
   "metadata": {},
   "outputs": [],
   "source": []
  }
 ],
 "metadata": {
  "kernelspec": {
   "display_name": "Python 3",
   "language": "python",
   "name": "python3"
  },
  "language_info": {
   "codemirror_mode": {
    "name": "ipython",
    "version": 3
   },
   "file_extension": ".py",
   "mimetype": "text/x-python",
   "name": "python",
   "nbconvert_exporter": "python",
   "pygments_lexer": "ipython3",
   "version": "3.8.5"
  }
 },
 "nbformat": 4,
 "nbformat_minor": 2
}
